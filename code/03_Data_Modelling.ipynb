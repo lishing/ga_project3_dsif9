{
 "cells": [
  {
   "cell_type": "markdown",
   "id": "68ad5a64-7045-4a03-8ce8-fbe7b5903e86",
   "metadata": {},
   "source": [
    "## 3.0 Data Modelling and Evaluation\n",
    "\n",
    "In this section, I will perform classifications on 7 models. There"
   ]
  },
  {
   "cell_type": "code",
   "execution_count": 300,
   "id": "39139162-78e2-4b4f-88b0-04ff80c8192a",
   "metadata": {},
   "outputs": [],
   "source": [
    "# load packages\n",
    "import matplotlib.pyplot as plt\n",
    "import pandas as pd\n",
    "import numpy as np\n",
    "import seaborn as sns\n",
    "import re\n",
    "\n",
    "# packages for pre-processing\n",
    "import nltk\n",
    "from nltk.tokenize import word_tokenize, RegexpTokenizer\n",
    "from nltk.corpus import stopwords\n",
    "from nltk.stem import WordNetLemmatizer\n",
    "from nltk.stem.porter import PorterStemmer\n",
    "\n",
    "# Import CountVectorizer and TFIDFVectorizer from feature_extraction.text.\n",
    "from sklearn.feature_extraction.text import CountVectorizer, TfidfVectorizer\n",
    "\n",
    "# building the pipeline\n",
    "from sklearn.pipeline import Pipeline\n",
    "from sklearn.model_selection import train_test_split, GridSearchCV\n",
    "\n",
    "from sklearn.linear_model import LogisticRegression\n",
    "from sklearn.naive_bayes import MultinomialNB\n",
    "from sklearn.neighbors import KNeighborsClassifier\n",
    "from sklearn.ensemble import BaggingClassifier, RandomForestClassifier, AdaBoostClassifier\n",
    "from sklearn.tree import DecisionTreeClassifier\n",
    "from sklearn.svm import SVC\n",
    "\n",
    "# metrics\n",
    "from sklearn.metrics import confusion_matrix, plot_confusion_matrix, accuracy_score, precision_score, recall_score, f1_score, roc_auc_score\n",
    "# display full columns and rows\n",
    "pd.options.display.max_colwidth = 400"
   ]
  },
  {
   "cell_type": "code",
   "execution_count": 301,
   "id": "3c3df3c4-cf64-4d51-8deb-5985d286050d",
   "metadata": {},
   "outputs": [],
   "source": [
    "from nltk.corpus import stopwords\n",
    "\n",
    "# include the common words found on the threads\n",
    "english_stopwords = stopwords.words('english')\n",
    "english_stopwords.extend(['hi', 'all', 'everyone', 'thank you', 'hello', 'mod', 'edit', 'etc', 'im', 'me', 'ive', 'thank',\n",
    "                         'like', 'would'])"
   ]
  },
  {
   "cell_type": "code",
   "execution_count": 302,
   "id": "b82eeb9c-41d5-4a3f-8e88-a10b94f1a433",
   "metadata": {},
   "outputs": [],
   "source": [
    "# read in data\n",
    "merged_df = pd.read_csv('./dataset/merged_df.csv')"
   ]
  },
  {
   "cell_type": "code",
   "execution_count": 303,
   "id": "c20dd13f-f10e-4cf9-8f4f-c79a4722152f",
   "metadata": {},
   "outputs": [
    {
     "data": {
      "text/plain": [
       "(3022, 7)"
      ]
     },
     "execution_count": 303,
     "metadata": {},
     "output_type": "execute_result"
    }
   ],
   "source": [
    "merged_df.shape"
   ]
  },
  {
   "cell_type": "code",
   "execution_count": 304,
   "id": "580b8ff2-22fc-4991-84bd-3c945738b64b",
   "metadata": {
    "tags": []
   },
   "outputs": [
    {
     "data": {
      "text/html": [
       "<div>\n",
       "<style scoped>\n",
       "    .dataframe tbody tr th:only-of-type {\n",
       "        vertical-align: middle;\n",
       "    }\n",
       "\n",
       "    .dataframe tbody tr th {\n",
       "        vertical-align: top;\n",
       "    }\n",
       "\n",
       "    .dataframe thead th {\n",
       "        text-align: right;\n",
       "    }\n",
       "</style>\n",
       "<table border=\"1\" class=\"dataframe\">\n",
       "  <thead>\n",
       "    <tr style=\"text-align: right;\">\n",
       "      <th></th>\n",
       "      <th>index</th>\n",
       "      <th>message</th>\n",
       "      <th>category</th>\n",
       "      <th>clean_mesg</th>\n",
       "      <th>tokens</th>\n",
       "      <th>filtered_tokens</th>\n",
       "      <th>lem_tokens</th>\n",
       "    </tr>\n",
       "  </thead>\n",
       "  <tbody>\n",
       "    <tr>\n",
       "      <th>0</th>\n",
       "      <td>0.0</td>\n",
       "      <td>[MOD] The Daily Question Thread</td>\n",
       "      <td>1</td>\n",
       "      <td>MOD The Daily Question Thread</td>\n",
       "      <td>['mod', 'the', 'daily', 'question', 'thread']</td>\n",
       "      <td>['daily', 'thread']</td>\n",
       "      <td>['daily', 'thread']</td>\n",
       "    </tr>\n",
       "    <tr>\n",
       "      <th>1</th>\n",
       "      <td>1.0</td>\n",
       "      <td>[MOD] What have you been brewing this week?/ Coffee bean recommendations</td>\n",
       "      <td>1</td>\n",
       "      <td>MOD What have you been brewing this week Coffee bean recommendations</td>\n",
       "      <td>['mod', 'what', 'have', 'you', 'been', 'brewing', 'this', 'week', 'coffee', 'bean', 'recommendations']</td>\n",
       "      <td>['brewing', 'week', 'coffee', 'bean', 'recommendations']</td>\n",
       "      <td>['brewing', 'week', 'coffee', 'bean', 'recommendation']</td>\n",
       "    </tr>\n",
       "    <tr>\n",
       "      <th>2</th>\n",
       "      <td>2.0</td>\n",
       "      <td>Aeromatic by Aeropress app</td>\n",
       "      <td>1</td>\n",
       "      <td>Aeromatic by Aeropress app</td>\n",
       "      <td>['aeromatic', 'by', 'aeropress', 'app']</td>\n",
       "      <td>['aeromatic', 'aeropress', 'app']</td>\n",
       "      <td>['aeromatic', 'aeropress', 'app']</td>\n",
       "    </tr>\n",
       "    <tr>\n",
       "      <th>3</th>\n",
       "      <td>3.0</td>\n",
       "      <td>Squarespace tools make viewing, editing and selling on mobile simple.</td>\n",
       "      <td>1</td>\n",
       "      <td>Squarespace tools make viewing editing and selling on mobile simple</td>\n",
       "      <td>['squarespace', 'tools', 'make', 'viewing', 'editing', 'and', 'selling', 'on', 'mobile', 'simple']</td>\n",
       "      <td>['squarespace', 'tools', 'make', 'viewing', 'editing', 'selling', 'mobile', 'simple']</td>\n",
       "      <td>['squarespace', 'tool', 'make', 'viewing', 'editing', 'selling', 'mobile', 'simple']</td>\n",
       "    </tr>\n",
       "    <tr>\n",
       "      <th>4</th>\n",
       "      <td>4.0</td>\n",
       "      <td>Roasting An Espresso Blend For A Local Coffee Shop</td>\n",
       "      <td>1</td>\n",
       "      <td>Roasting An Espresso Blend For A Local Coffee Shop</td>\n",
       "      <td>['roasting', 'an', 'espresso', 'blend', 'for', 'a', 'local', 'coffee', 'shop']</td>\n",
       "      <td>['roasting', 'espresso', 'blend', 'local', 'coffee', 'shop']</td>\n",
       "      <td>['roasting', 'espresso', 'blend', 'local', 'coffee', 'shop']</td>\n",
       "    </tr>\n",
       "    <tr>\n",
       "      <th>...</th>\n",
       "      <td>...</td>\n",
       "      <td>...</td>\n",
       "      <td>...</td>\n",
       "      <td>...</td>\n",
       "      <td>...</td>\n",
       "      <td>...</td>\n",
       "      <td>...</td>\n",
       "    </tr>\n",
       "    <tr>\n",
       "      <th>3017</th>\n",
       "      <td>1500.0</td>\n",
       "      <td>I’m looking for an accessible mass-market tea. Which tea do you recommend as the strongest?</td>\n",
       "      <td>0</td>\n",
       "      <td>Im looking for an accessible massmarket tea Which tea do you recommend as the strongest</td>\n",
       "      <td>['im', 'looking', 'for', 'an', 'accessible', 'massmarket', 'tea', 'which', 'tea', 'do', 'you', 'recommend', 'as', 'the', 'strongest']</td>\n",
       "      <td>['looking', 'accessible', 'massmarket', 'tea', 'tea', 'recommend', 'strongest']</td>\n",
       "      <td>['looking', 'accessible', 'massmarket', 'tea', 'tea', 'recommend', 'strongest']</td>\n",
       "    </tr>\n",
       "    <tr>\n",
       "      <th>3018</th>\n",
       "      <td>1501.0</td>\n",
       "      <td>For the record, the ones I’ve tried are Builders, Thompson’s Titanic and Punjana, PG Tips, Yorkshire Red and Gold, Twinnings Irish Breakfast, Glen-something, Brewleys Irish, King Cole, Tetleys Bold and English Breakfast, and Ahmad Earl Gray and Special Blend.  I want something stronger without having to double bag</td>\n",
       "      <td>0</td>\n",
       "      <td>For the record the ones Ive tried are Builders Thompsons Titanic and Punjana PG Tips Yorkshire Red and Gold Twinnings Irish Breakfast Glensomething Brewleys Irish King Cole Tetleys Bold and English Breakfast and Ahmad Earl Gray and Special Blend  I want something stronger without having to double bag</td>\n",
       "      <td>['for', 'the', 'record', 'the', 'ones', 'ive', 'tried', 'are', 'builders', 'thompsons', 'titanic', 'and', 'punjana', 'pg', 'tips', 'yorkshire', 'red', 'and', 'gold', 'twinnings', 'irish', 'breakfast', 'glensomething', 'brewleys', 'irish', 'king', 'cole', 'tetleys', 'bold', 'and', 'english', 'breakfast', 'and', 'ahmad', 'earl', 'gray', 'and', 'special', 'blend', 'i', 'want', 'something', 'stron...</td>\n",
       "      <td>['record', 'ones', 'tried', 'builders', 'thompsons', 'titanic', 'punjana', 'pg', 'tips', 'yorkshire', 'red', 'gold', 'twinnings', 'irish', 'breakfast', 'glensomething', 'brewleys', 'irish', 'king', 'cole', 'tetleys', 'bold', 'english', 'breakfast', 'ahmad', 'earl', 'gray', 'special', 'blend', 'want', 'something', 'stronger', 'without', 'double', 'bag']</td>\n",
       "      <td>['record', 'one', 'tried', 'builder', 'thompson', 'titanic', 'punjana', 'pg', 'tip', 'yorkshire', 'red', 'gold', 'twinnings', 'irish', 'breakfast', 'glensomething', 'brewleys', 'irish', 'king', 'cole', 'tetleys', 'bold', 'english', 'breakfast', 'ahmad', 'earl', 'gray', 'special', 'blend', 'want', 'something', 'stronger', 'without', 'double', 'bag']</td>\n",
       "    </tr>\n",
       "    <tr>\n",
       "      <th>3019</th>\n",
       "      <td>1502.0</td>\n",
       "      <td>The ones I still want to try are Barry’s Black and Lyons Gold.</td>\n",
       "      <td>0</td>\n",
       "      <td>The ones I still want to try are Barrys Black and Lyons Gold</td>\n",
       "      <td>['the', 'ones', 'i', 'still', 'want', 'to', 'try', 'are', 'barrys', 'black', 'and', 'lyons', 'gold']</td>\n",
       "      <td>['ones', 'still', 'want', 'try', 'barrys', 'black', 'lyons', 'gold']</td>\n",
       "      <td>['one', 'still', 'want', 'try', 'barrys', 'black', 'lyon', 'gold']</td>\n",
       "    </tr>\n",
       "    <tr>\n",
       "      <th>3020</th>\n",
       "      <td>1503.0</td>\n",
       "      <td>Am I missing any?</td>\n",
       "      <td>0</td>\n",
       "      <td>Am I missing any</td>\n",
       "      <td>['am', 'i', 'missing', 'any']</td>\n",
       "      <td>['missing']</td>\n",
       "      <td>['missing']</td>\n",
       "    </tr>\n",
       "    <tr>\n",
       "      <th>3021</th>\n",
       "      <td>1504.0</td>\n",
       "      <td>Edit: I’ve read lots of threads on what people think is the Best bagged trees, but I’m looking for Strongest</td>\n",
       "      <td>0</td>\n",
       "      <td>Edit Ive read lots of threads on what people think is the Best bagged trees but Im looking for Strongest</td>\n",
       "      <td>['edit', 'ive', 'read', 'lots', 'of', 'threads', 'on', 'what', 'people', 'think', 'is', 'the', 'best', 'bagged', 'trees', 'but', 'im', 'looking', 'for', 'strongest']</td>\n",
       "      <td>['read', 'lots', 'threads', 'people', 'think', 'best', 'bagged', 'trees', 'looking', 'strongest']</td>\n",
       "      <td>['read', 'lot', 'thread', 'people', 'think', 'best', 'bagged', 'tree', 'looking', 'strongest']</td>\n",
       "    </tr>\n",
       "  </tbody>\n",
       "</table>\n",
       "<p>3022 rows × 7 columns</p>\n",
       "</div>"
      ],
      "text/plain": [
       "       index  \\\n",
       "0        0.0   \n",
       "1        1.0   \n",
       "2        2.0   \n",
       "3        3.0   \n",
       "4        4.0   \n",
       "...      ...   \n",
       "3017  1500.0   \n",
       "3018  1501.0   \n",
       "3019  1502.0   \n",
       "3020  1503.0   \n",
       "3021  1504.0   \n",
       "\n",
       "                                                                                                                                                                                                                                                                                                                          message  \\\n",
       "0                                                                                                                                                                                                                                                                                                 [MOD] The Daily Question Thread   \n",
       "1                                                                                                                                                                                                                                                        [MOD] What have you been brewing this week?/ Coffee bean recommendations   \n",
       "2                                                                                                                                                                                                                                                                                                      Aeromatic by Aeropress app   \n",
       "3                                                                                                                                                                                                                                                           Squarespace tools make viewing, editing and selling on mobile simple.   \n",
       "4                                                                                                                                                                                                                                                                              Roasting An Espresso Blend For A Local Coffee Shop   \n",
       "...                                                                                                                                                                                                                                                                                                                           ...   \n",
       "3017                                                                                                                                                                                                                                  I’m looking for an accessible mass-market tea. Which tea do you recommend as the strongest?   \n",
       "3018  For the record, the ones I’ve tried are Builders, Thompson’s Titanic and Punjana, PG Tips, Yorkshire Red and Gold, Twinnings Irish Breakfast, Glen-something, Brewleys Irish, King Cole, Tetleys Bold and English Breakfast, and Ahmad Earl Gray and Special Blend.  I want something stronger without having to double bag   \n",
       "3019                                                                                                                                                                                                                                                               The ones I still want to try are Barry’s Black and Lyons Gold.   \n",
       "3020                                                                                                                                                                                                                                                                                                            Am I missing any?   \n",
       "3021                                                                                                                                                                                                                 Edit: I’ve read lots of threads on what people think is the Best bagged trees, but I’m looking for Strongest   \n",
       "\n",
       "      category  \\\n",
       "0            1   \n",
       "1            1   \n",
       "2            1   \n",
       "3            1   \n",
       "4            1   \n",
       "...        ...   \n",
       "3017         0   \n",
       "3018         0   \n",
       "3019         0   \n",
       "3020         0   \n",
       "3021         0   \n",
       "\n",
       "                                                                                                                                                                                                                                                                                                         clean_mesg  \\\n",
       "0                                                                                                                                                                                                                                                                                     MOD The Daily Question Thread   \n",
       "1                                                                                                                                                                                                                                              MOD What have you been brewing this week Coffee bean recommendations   \n",
       "2                                                                                                                                                                                                                                                                                        Aeromatic by Aeropress app   \n",
       "3                                                                                                                                                                                                                                               Squarespace tools make viewing editing and selling on mobile simple   \n",
       "4                                                                                                                                                                                                                                                                Roasting An Espresso Blend For A Local Coffee Shop   \n",
       "...                                                                                                                                                                                                                                                                                                             ...   \n",
       "3017                                                                                                                                                                                                                        Im looking for an accessible massmarket tea Which tea do you recommend as the strongest   \n",
       "3018  For the record the ones Ive tried are Builders Thompsons Titanic and Punjana PG Tips Yorkshire Red and Gold Twinnings Irish Breakfast Glensomething Brewleys Irish King Cole Tetleys Bold and English Breakfast and Ahmad Earl Gray and Special Blend  I want something stronger without having to double bag   \n",
       "3019                                                                                                                                                                                                                                                   The ones I still want to try are Barrys Black and Lyons Gold   \n",
       "3020                                                                                                                                                                                                                                                                                               Am I missing any   \n",
       "3021                                                                                                                                                                                                       Edit Ive read lots of threads on what people think is the Best bagged trees but Im looking for Strongest   \n",
       "\n",
       "                                                                                                                                                                                                                                                                                                                                                                                                               tokens  \\\n",
       "0                                                                                                                                                                                                                                                                                                                                                                       ['mod', 'the', 'daily', 'question', 'thread']   \n",
       "1                                                                                                                                                                                                                                                                                                              ['mod', 'what', 'have', 'you', 'been', 'brewing', 'this', 'week', 'coffee', 'bean', 'recommendations']   \n",
       "2                                                                                                                                                                                                                                                                                                                                                                             ['aeromatic', 'by', 'aeropress', 'app']   \n",
       "3                                                                                                                                                                                                                                                                                                                  ['squarespace', 'tools', 'make', 'viewing', 'editing', 'and', 'selling', 'on', 'mobile', 'simple']   \n",
       "4                                                                                                                                                                                                                                                                                                                                      ['roasting', 'an', 'espresso', 'blend', 'for', 'a', 'local', 'coffee', 'shop']   \n",
       "...                                                                                                                                                                                                                                                                                                                                                                                                               ...   \n",
       "3017                                                                                                                                                                                                                                                                            ['im', 'looking', 'for', 'an', 'accessible', 'massmarket', 'tea', 'which', 'tea', 'do', 'you', 'recommend', 'as', 'the', 'strongest']   \n",
       "3018  ['for', 'the', 'record', 'the', 'ones', 'ive', 'tried', 'are', 'builders', 'thompsons', 'titanic', 'and', 'punjana', 'pg', 'tips', 'yorkshire', 'red', 'and', 'gold', 'twinnings', 'irish', 'breakfast', 'glensomething', 'brewleys', 'irish', 'king', 'cole', 'tetleys', 'bold', 'and', 'english', 'breakfast', 'and', 'ahmad', 'earl', 'gray', 'and', 'special', 'blend', 'i', 'want', 'something', 'stron...   \n",
       "3019                                                                                                                                                                                                                                                                                                             ['the', 'ones', 'i', 'still', 'want', 'to', 'try', 'are', 'barrys', 'black', 'and', 'lyons', 'gold']   \n",
       "3020                                                                                                                                                                                                                                                                                                                                                                                    ['am', 'i', 'missing', 'any']   \n",
       "3021                                                                                                                                                                                                                                            ['edit', 'ive', 'read', 'lots', 'of', 'threads', 'on', 'what', 'people', 'think', 'is', 'the', 'best', 'bagged', 'trees', 'but', 'im', 'looking', 'for', 'strongest']   \n",
       "\n",
       "                                                                                                                                                                                                                                                                                                                                                         filtered_tokens  \\\n",
       "0                                                                                                                                                                                                                                                                                                                                                    ['daily', 'thread']   \n",
       "1                                                                                                                                                                                                                                                                                                               ['brewing', 'week', 'coffee', 'bean', 'recommendations']   \n",
       "2                                                                                                                                                                                                                                                                                                                                      ['aeromatic', 'aeropress', 'app']   \n",
       "3                                                                                                                                                                                                                                                                                  ['squarespace', 'tools', 'make', 'viewing', 'editing', 'selling', 'mobile', 'simple']   \n",
       "4                                                                                                                                                                                                                                                                                                           ['roasting', 'espresso', 'blend', 'local', 'coffee', 'shop']   \n",
       "...                                                                                                                                                                                                                                                                                                                                                                  ...   \n",
       "3017                                                                                                                                                                                                                                                                                     ['looking', 'accessible', 'massmarket', 'tea', 'tea', 'recommend', 'strongest']   \n",
       "3018  ['record', 'ones', 'tried', 'builders', 'thompsons', 'titanic', 'punjana', 'pg', 'tips', 'yorkshire', 'red', 'gold', 'twinnings', 'irish', 'breakfast', 'glensomething', 'brewleys', 'irish', 'king', 'cole', 'tetleys', 'bold', 'english', 'breakfast', 'ahmad', 'earl', 'gray', 'special', 'blend', 'want', 'something', 'stronger', 'without', 'double', 'bag']   \n",
       "3019                                                                                                                                                                                                                                                                                                ['ones', 'still', 'want', 'try', 'barrys', 'black', 'lyons', 'gold']   \n",
       "3020                                                                                                                                                                                                                                                                                                                                                         ['missing']   \n",
       "3021                                                                                                                                                                                                                                                                   ['read', 'lots', 'threads', 'people', 'think', 'best', 'bagged', 'trees', 'looking', 'strongest']   \n",
       "\n",
       "                                                                                                                                                                                                                                                                                                                                                          lem_tokens  \n",
       "0                                                                                                                                                                                                                                                                                                                                                ['daily', 'thread']  \n",
       "1                                                                                                                                                                                                                                                                                                            ['brewing', 'week', 'coffee', 'bean', 'recommendation']  \n",
       "2                                                                                                                                                                                                                                                                                                                                  ['aeromatic', 'aeropress', 'app']  \n",
       "3                                                                                                                                                                                                                                                                               ['squarespace', 'tool', 'make', 'viewing', 'editing', 'selling', 'mobile', 'simple']  \n",
       "4                                                                                                                                                                                                                                                                                                       ['roasting', 'espresso', 'blend', 'local', 'coffee', 'shop']  \n",
       "...                                                                                                                                                                                                                                                                                                                                                              ...  \n",
       "3017                                                                                                                                                                                                                                                                                 ['looking', 'accessible', 'massmarket', 'tea', 'tea', 'recommend', 'strongest']  \n",
       "3018  ['record', 'one', 'tried', 'builder', 'thompson', 'titanic', 'punjana', 'pg', 'tip', 'yorkshire', 'red', 'gold', 'twinnings', 'irish', 'breakfast', 'glensomething', 'brewleys', 'irish', 'king', 'cole', 'tetleys', 'bold', 'english', 'breakfast', 'ahmad', 'earl', 'gray', 'special', 'blend', 'want', 'something', 'stronger', 'without', 'double', 'bag']  \n",
       "3019                                                                                                                                                                                                                                                                                              ['one', 'still', 'want', 'try', 'barrys', 'black', 'lyon', 'gold']  \n",
       "3020                                                                                                                                                                                                                                                                                                                                                     ['missing']  \n",
       "3021                                                                                                                                                                                                                                                                  ['read', 'lot', 'thread', 'people', 'think', 'best', 'bagged', 'tree', 'looking', 'strongest']  \n",
       "\n",
       "[3022 rows x 7 columns]"
      ]
     },
     "execution_count": 304,
     "metadata": {},
     "output_type": "execute_result"
    }
   ],
   "source": [
    "merged_df"
   ]
  },
  {
   "cell_type": "markdown",
   "id": "8433d109-a427-4714-a3b7-18f54719f01d",
   "metadata": {
    "tags": []
   },
   "source": [
    "# 3.0 Building Data Models\n",
    "\n",
    "In our business problem, Coffee is being measured as a positive outcome, while Tea is being measured as a negative outcome. \n",
    "\n",
    "I will be running the corpus through the following models with TF-IDF. I chose because it can balance the influence of words that appeared too little/too much. Earlier, I have tried using CountVectorizer and the accuracy score is much lower\n",
    "- Naive Bayes\n",
    "- Logistic Regression\n",
    "- Decision Tree\n",
    "- K-Nearest Neighbors\n",
    "- Random Forest\n",
    "- SVM\n",
    "- AdaBoost.\n",
    "\n",
    "I will use accuracy, precision, recall, and F1 score as evaluation metrics. This can give perspective on the performance of each model\n",
    "* Accuracy is the number of correct predictions over the number of total predictions\n",
    "    * It is possible to use accuracy in this case, as there is an equal distribution of positives and negatives.\n",
    "* Precision is the number of true positives, against the total number of true positives and false positives. \n",
    "    * the higher the precision, the higher chance that a classified 'coffee' correctly\n",
    "* Recall is the number of true positives against the actual positives number\n",
    "    * the higher the recall, the more likely the model is in classifying a post as 'coffee'\n",
    "* F1 score is the harmonic mean of precision and recall. It is an average of Precision and Recall\n",
    "    * if it has a high F1 score, both Precision and Recall are high\n",
    "    * if it has a low F1 score, both Precision and Recall are low\n",
    "    * if it is a medium score, either Precision or Recall is high, and the other is low\n",
    "* ROC AUC score tells us how efficient the model is.\n",
    "    * the higher the score, the better the model's performance at distinguishing between positive and negative classes"
   ]
  },
  {
   "cell_type": "code",
   "execution_count": 305,
   "id": "ada52f22-26f0-4f51-938a-edd5a1000c0f",
   "metadata": {},
   "outputs": [],
   "source": [
    "X = merged_df[\"lem_tokens\"]\n",
    "y = merged_df['category']"
   ]
  },
  {
   "cell_type": "code",
   "execution_count": 306,
   "id": "685a3a65-04d0-4752-a540-cbdf89a0c93f",
   "metadata": {},
   "outputs": [
    {
     "data": {
      "text/plain": [
       "(3022,)"
      ]
     },
     "execution_count": 306,
     "metadata": {},
     "output_type": "execute_result"
    }
   ],
   "source": [
    "X.shape"
   ]
  },
  {
   "cell_type": "code",
   "execution_count": 307,
   "id": "71300032-b278-402c-8ec1-74a502fa27e7",
   "metadata": {},
   "outputs": [
    {
     "data": {
      "text/plain": [
       "1    0.502316\n",
       "0    0.497684\n",
       "Name: category, dtype: float64"
      ]
     },
     "execution_count": 307,
     "metadata": {},
     "output_type": "execute_result"
    }
   ],
   "source": [
    "# check the distribution of y\n",
    "y.value_counts(normalize = True)"
   ]
  },
  {
   "cell_type": "code",
   "execution_count": 308,
   "id": "ff175d0f-12f0-43e8-916f-1919f118097a",
   "metadata": {},
   "outputs": [],
   "source": [
    "# Split the data into the training and testing sets.\n",
    "X_train, X_test, y_train, y_test = train_test_split(X,\n",
    "                                                    y,\n",
    "                                                    test_size=0.3,\n",
    "                                                    stratify=y,\n",
    "                                                    random_state=42)"
   ]
  },
  {
   "cell_type": "code",
   "execution_count": 309,
   "id": "1615cac1-bada-4699-96d6-929c865bce5e",
   "metadata": {},
   "outputs": [
    {
     "data": {
      "text/plain": [
       "1    0.502756\n",
       "0    0.497244\n",
       "Name: category, dtype: float64"
      ]
     },
     "execution_count": 309,
     "metadata": {},
     "output_type": "execute_result"
    }
   ],
   "source": [
    "# establish a baseline accuracy for both coffee (1) and tea (0)\n",
    "y_test.value_counts(normalize=True)"
   ]
  },
  {
   "cell_type": "code",
   "execution_count": null,
   "id": "14429eca-2e42-4752-b65b-70b692255a73",
   "metadata": {},
   "outputs": [],
   "source": []
  },
  {
   "cell_type": "markdown",
   "id": "b49e5f78-116c-44eb-8c76-421969a730eb",
   "metadata": {},
   "source": [
    "## 3.1 Naive Bayes\n",
    "Naive Bayes is a simple model and works well with a small data set. This model works well if the features are independent. "
   ]
  },
  {
   "cell_type": "code",
   "execution_count": 310,
   "id": "a9921e0a-09d0-4944-bc9b-ffa6d12a47e2",
   "metadata": {},
   "outputs": [],
   "source": [
    "# use tf-idf tokenizer\n",
    "tvec = TfidfVectorizer()"
   ]
  },
  {
   "cell_type": "code",
   "execution_count": 311,
   "id": "6b0c7214-8ead-4410-8d80-a64bfb6f2b81",
   "metadata": {},
   "outputs": [],
   "source": [
    "# build a pipeline to find the most optimized parameters using MultinomialNB \n",
    "pipe_nb = Pipeline([\n",
    "    ('tvec', TfidfVectorizer()),\n",
    "    ('nb', MultinomialNB())\n",
    "])"
   ]
  },
  {
   "cell_type": "code",
   "execution_count": 312,
   "id": "100e1549-e080-4296-be30-651a8828c51d",
   "metadata": {},
   "outputs": [],
   "source": [
    "pipe_nb_params = {\n",
    "    'tvec__max_features': [2000, 3000, 4000, 5000],\n",
    "    'tvec__stop_words': ['english'],\n",
    "    'tvec__ngram_range': [(1,1), (1,2)]\n",
    "}"
   ]
  },
  {
   "cell_type": "code",
   "execution_count": 313,
   "id": "5727c22b-93ff-4bdf-b744-50ebaf8f484c",
   "metadata": {},
   "outputs": [],
   "source": [
    "gs_nb = GridSearchCV(pipe_nb, \n",
    "                  param_grid=pipe_nb_params, \n",
    "                  cv=5) # 5 folds CV"
   ]
  },
  {
   "cell_type": "code",
   "execution_count": 315,
   "id": "cc09d9a4-a886-4c3d-801d-4d428c4b3a8f",
   "metadata": {
    "tags": []
   },
   "outputs": [
    {
     "data": {
      "text/html": [
       "<style>#sk-container-id-16 {color: black;background-color: white;}#sk-container-id-16 pre{padding: 0;}#sk-container-id-16 div.sk-toggleable {background-color: white;}#sk-container-id-16 label.sk-toggleable__label {cursor: pointer;display: block;width: 100%;margin-bottom: 0;padding: 0.3em;box-sizing: border-box;text-align: center;}#sk-container-id-16 label.sk-toggleable__label-arrow:before {content: \"▸\";float: left;margin-right: 0.25em;color: #696969;}#sk-container-id-16 label.sk-toggleable__label-arrow:hover:before {color: black;}#sk-container-id-16 div.sk-estimator:hover label.sk-toggleable__label-arrow:before {color: black;}#sk-container-id-16 div.sk-toggleable__content {max-height: 0;max-width: 0;overflow: hidden;text-align: left;background-color: #f0f8ff;}#sk-container-id-16 div.sk-toggleable__content pre {margin: 0.2em;color: black;border-radius: 0.25em;background-color: #f0f8ff;}#sk-container-id-16 input.sk-toggleable__control:checked~div.sk-toggleable__content {max-height: 200px;max-width: 100%;overflow: auto;}#sk-container-id-16 input.sk-toggleable__control:checked~label.sk-toggleable__label-arrow:before {content: \"▾\";}#sk-container-id-16 div.sk-estimator input.sk-toggleable__control:checked~label.sk-toggleable__label {background-color: #d4ebff;}#sk-container-id-16 div.sk-label input.sk-toggleable__control:checked~label.sk-toggleable__label {background-color: #d4ebff;}#sk-container-id-16 input.sk-hidden--visually {border: 0;clip: rect(1px 1px 1px 1px);clip: rect(1px, 1px, 1px, 1px);height: 1px;margin: -1px;overflow: hidden;padding: 0;position: absolute;width: 1px;}#sk-container-id-16 div.sk-estimator {font-family: monospace;background-color: #f0f8ff;border: 1px dotted black;border-radius: 0.25em;box-sizing: border-box;margin-bottom: 0.5em;}#sk-container-id-16 div.sk-estimator:hover {background-color: #d4ebff;}#sk-container-id-16 div.sk-parallel-item::after {content: \"\";width: 100%;border-bottom: 1px solid gray;flex-grow: 1;}#sk-container-id-16 div.sk-label:hover label.sk-toggleable__label {background-color: #d4ebff;}#sk-container-id-16 div.sk-serial::before {content: \"\";position: absolute;border-left: 1px solid gray;box-sizing: border-box;top: 0;bottom: 0;left: 50%;z-index: 0;}#sk-container-id-16 div.sk-serial {display: flex;flex-direction: column;align-items: center;background-color: white;padding-right: 0.2em;padding-left: 0.2em;position: relative;}#sk-container-id-16 div.sk-item {position: relative;z-index: 1;}#sk-container-id-16 div.sk-parallel {display: flex;align-items: stretch;justify-content: center;background-color: white;position: relative;}#sk-container-id-16 div.sk-item::before, #sk-container-id-16 div.sk-parallel-item::before {content: \"\";position: absolute;border-left: 1px solid gray;box-sizing: border-box;top: 0;bottom: 0;left: 50%;z-index: -1;}#sk-container-id-16 div.sk-parallel-item {display: flex;flex-direction: column;z-index: 1;position: relative;background-color: white;}#sk-container-id-16 div.sk-parallel-item:first-child::after {align-self: flex-end;width: 50%;}#sk-container-id-16 div.sk-parallel-item:last-child::after {align-self: flex-start;width: 50%;}#sk-container-id-16 div.sk-parallel-item:only-child::after {width: 0;}#sk-container-id-16 div.sk-dashed-wrapped {border: 1px dashed gray;margin: 0 0.4em 0.5em 0.4em;box-sizing: border-box;padding-bottom: 0.4em;background-color: white;}#sk-container-id-16 div.sk-label label {font-family: monospace;font-weight: bold;display: inline-block;line-height: 1.2em;}#sk-container-id-16 div.sk-label-container {text-align: center;}#sk-container-id-16 div.sk-container {/* jupyter's `normalize.less` sets `[hidden] { display: none; }` but bootstrap.min.css set `[hidden] { display: none !important; }` so we also need the `!important` here to be able to override the default hidden behavior on the sphinx rendered scikit-learn.org. See: https://github.com/scikit-learn/scikit-learn/issues/21755 */display: inline-block !important;position: relative;}#sk-container-id-16 div.sk-text-repr-fallback {display: none;}</style><div id=\"sk-container-id-16\" class=\"sk-top-container\"><div class=\"sk-text-repr-fallback\"><pre>GridSearchCV(cv=5,\n",
       "             estimator=Pipeline(steps=[(&#x27;tvec&#x27;, TfidfVectorizer()),\n",
       "                                       (&#x27;nb&#x27;, MultinomialNB())]),\n",
       "             param_grid={&#x27;tvec__max_features&#x27;: [2000, 3000, 4000, 5000],\n",
       "                         &#x27;tvec__ngram_range&#x27;: [(1, 1), (1, 2)],\n",
       "                         &#x27;tvec__stop_words&#x27;: [&#x27;english&#x27;]})</pre><b>In a Jupyter environment, please rerun this cell to show the HTML representation or trust the notebook. <br />On GitHub, the HTML representation is unable to render, please try loading this page with nbviewer.org.</b></div><div class=\"sk-container\" hidden><div class=\"sk-item sk-dashed-wrapped\"><div class=\"sk-label-container\"><div class=\"sk-label sk-toggleable\"><input class=\"sk-toggleable__control sk-hidden--visually\" id=\"sk-estimator-id-65\" type=\"checkbox\" ><label for=\"sk-estimator-id-65\" class=\"sk-toggleable__label sk-toggleable__label-arrow\">GridSearchCV</label><div class=\"sk-toggleable__content\"><pre>GridSearchCV(cv=5,\n",
       "             estimator=Pipeline(steps=[(&#x27;tvec&#x27;, TfidfVectorizer()),\n",
       "                                       (&#x27;nb&#x27;, MultinomialNB())]),\n",
       "             param_grid={&#x27;tvec__max_features&#x27;: [2000, 3000, 4000, 5000],\n",
       "                         &#x27;tvec__ngram_range&#x27;: [(1, 1), (1, 2)],\n",
       "                         &#x27;tvec__stop_words&#x27;: [&#x27;english&#x27;]})</pre></div></div></div><div class=\"sk-parallel\"><div class=\"sk-parallel-item\"><div class=\"sk-item\"><div class=\"sk-label-container\"><div class=\"sk-label sk-toggleable\"><input class=\"sk-toggleable__control sk-hidden--visually\" id=\"sk-estimator-id-66\" type=\"checkbox\" ><label for=\"sk-estimator-id-66\" class=\"sk-toggleable__label sk-toggleable__label-arrow\">estimator: Pipeline</label><div class=\"sk-toggleable__content\"><pre>Pipeline(steps=[(&#x27;tvec&#x27;, TfidfVectorizer()), (&#x27;nb&#x27;, MultinomialNB())])</pre></div></div></div><div class=\"sk-serial\"><div class=\"sk-item\"><div class=\"sk-serial\"><div class=\"sk-item\"><div class=\"sk-estimator sk-toggleable\"><input class=\"sk-toggleable__control sk-hidden--visually\" id=\"sk-estimator-id-67\" type=\"checkbox\" ><label for=\"sk-estimator-id-67\" class=\"sk-toggleable__label sk-toggleable__label-arrow\">TfidfVectorizer</label><div class=\"sk-toggleable__content\"><pre>TfidfVectorizer()</pre></div></div></div><div class=\"sk-item\"><div class=\"sk-estimator sk-toggleable\"><input class=\"sk-toggleable__control sk-hidden--visually\" id=\"sk-estimator-id-68\" type=\"checkbox\" ><label for=\"sk-estimator-id-68\" class=\"sk-toggleable__label sk-toggleable__label-arrow\">MultinomialNB</label><div class=\"sk-toggleable__content\"><pre>MultinomialNB()</pre></div></div></div></div></div></div></div></div></div></div></div></div>"
      ],
      "text/plain": [
       "GridSearchCV(cv=5,\n",
       "             estimator=Pipeline(steps=[('tvec', TfidfVectorizer()),\n",
       "                                       ('nb', MultinomialNB())]),\n",
       "             param_grid={'tvec__max_features': [2000, 3000, 4000, 5000],\n",
       "                         'tvec__ngram_range': [(1, 1), (1, 2)],\n",
       "                         'tvec__stop_words': ['english']})"
      ]
     },
     "execution_count": 315,
     "metadata": {},
     "output_type": "execute_result"
    }
   ],
   "source": [
    "gs_nb.fit(X_train, y_train) "
   ]
  },
  {
   "cell_type": "code",
   "execution_count": 316,
   "id": "ccc3258a-4803-42cb-a9a0-1b04cbaded41",
   "metadata": {},
   "outputs": [
    {
     "name": "stderr",
     "output_type": "stream",
     "text": [
      "/usr/local/Caskroom/miniconda/base/envs/dsi-sg/lib/python3.9/site-packages/sklearn/utils/deprecation.py:87: FutureWarning: Function get_feature_names is deprecated; get_feature_names is deprecated in 1.0 and will be removed in 1.2. Please use get_feature_names_out instead.\n",
      "  warnings.warn(msg, category=FutureWarning)\n"
     ]
    }
   ],
   "source": [
    "# do a fit transform on X_train and X_test using tfidf\n",
    "X_train_tvec = pd.DataFrame(gs_nb.best_estimator_[\"tvec\"].transform(X_train).todense(),\n",
    "                          columns = gs_nb.best_estimator_[\"tvec\"].get_feature_names())"
   ]
  },
  {
   "cell_type": "code",
   "execution_count": 317,
   "id": "e9b6413c-4cfd-4448-b158-fa76af9aad9d",
   "metadata": {},
   "outputs": [
    {
     "name": "stderr",
     "output_type": "stream",
     "text": [
      "/usr/local/Caskroom/miniconda/base/envs/dsi-sg/lib/python3.9/site-packages/sklearn/utils/deprecation.py:87: FutureWarning: Function get_feature_names is deprecated; get_feature_names is deprecated in 1.0 and will be removed in 1.2. Please use get_feature_names_out instead.\n",
      "  warnings.warn(msg, category=FutureWarning)\n"
     ]
    }
   ],
   "source": [
    "X_test_tvec = pd.DataFrame(gs_nb.best_estimator_[\"tvec\"].transform(X_test).todense(),\n",
    "                          columns = gs_nb.best_estimator_[\"tvec\"].get_feature_names())"
   ]
  },
  {
   "cell_type": "code",
   "execution_count": 318,
   "id": "3c5557a4-1c45-4fcc-8846-2d79fe195657",
   "metadata": {},
   "outputs": [
    {
     "name": "stdout",
     "output_type": "stream",
     "text": [
      "0.8898345153664302\n"
     ]
    }
   ],
   "source": [
    "print(gs_nb.best_score_)"
   ]
  },
  {
   "cell_type": "code",
   "execution_count": 319,
   "id": "dfd4821e-d312-4e70-ae0f-179fae9d0fe8",
   "metadata": {},
   "outputs": [
    {
     "data": {
      "text/plain": [
       "0.9574468085106383"
      ]
     },
     "execution_count": 319,
     "metadata": {},
     "output_type": "execute_result"
    }
   ],
   "source": [
    "gs_nb.score(X_train, y_train) #0.96"
   ]
  },
  {
   "cell_type": "code",
   "execution_count": 320,
   "id": "eb01d117-9541-40c1-8399-c234ec549c19",
   "metadata": {},
   "outputs": [
    {
     "data": {
      "text/plain": [
       "0.8886438809261301"
      ]
     },
     "execution_count": 320,
     "metadata": {},
     "output_type": "execute_result"
    }
   ],
   "source": [
    "gs_nb.score(X_test, y_test) #0.88"
   ]
  },
  {
   "cell_type": "code",
   "execution_count": 353,
   "id": "8e39778e-9dac-46f8-85c3-8b9d3f2c9956",
   "metadata": {},
   "outputs": [
    {
     "data": {
      "text/plain": [
       "{'tvec__max_features': 5000,\n",
       " 'tvec__ngram_range': (1, 2),\n",
       " 'tvec__stop_words': 'english'}"
      ]
     },
     "execution_count": 353,
     "metadata": {},
     "output_type": "execute_result"
    }
   ],
   "source": [
    "gs_nb.best_params_"
   ]
  },
  {
   "cell_type": "code",
   "execution_count": 321,
   "id": "2b426627-b1f0-44e9-bde6-ba2aaea7d626",
   "metadata": {},
   "outputs": [],
   "source": [
    "# Get predictions\n",
    "preds = gs_nb.predict(X_test)\n",
    "\n",
    "# Save confusion matrix values\n",
    "tn, fp, fn, tp = confusion_matrix(y_test, preds).ravel()"
   ]
  },
  {
   "cell_type": "code",
   "execution_count": 322,
   "id": "f9bf4c15-5b85-42df-91d3-bb038f1fca6f",
   "metadata": {},
   "outputs": [
    {
     "name": "stderr",
     "output_type": "stream",
     "text": [
      "/usr/local/Caskroom/miniconda/base/envs/dsi-sg/lib/python3.9/site-packages/sklearn/utils/deprecation.py:87: FutureWarning: Function plot_confusion_matrix is deprecated; Function `plot_confusion_matrix` is deprecated in 1.0 and will be removed in 1.2. Use one of the class methods: ConfusionMatrixDisplay.from_predictions or ConfusionMatrixDisplay.from_estimator.\n",
      "  warnings.warn(msg, category=FutureWarning)\n"
     ]
    },
    {
     "data": {
      "image/png": "[encoded data removed]",
      "text/plain": [
       "<Figure size 640x480 with 2 Axes>"
      ]
     },
     "metadata": {},
     "output_type": "display_data"
    }
   ],
   "source": [
    "# View confusion matrix\n",
    "plot_confusion_matrix(gs_nb, X_test, y_test, cmap='Blues', values_format='d');"
   ]
  },
  {
   "cell_type": "code",
   "execution_count": 323,
   "id": "348f282b-5f5a-4327-ad0c-3167387d6b05",
   "metadata": {},
   "outputs": [
    {
     "name": "stdout",
     "output_type": "stream",
     "text": [
      "Specificity for Naive Bayes: 0.8625277161862528\n"
     ]
    }
   ],
   "source": [
    "# Calculate the specificity\n",
    "spec = tn / (tn + fp)\n",
    "print('Specificity for Naive Bayes:', spec)"
   ]
  },
  {
   "cell_type": "code",
   "execution_count": 324,
   "id": "1f0e1efa-7e2a-425e-a954-b792d2199958",
   "metadata": {},
   "outputs": [
    {
     "name": "stdout",
     "output_type": "stream",
     "text": [
      "Sensitivity for Naive Bayes: 0.9144736842105263\n"
     ]
    }
   ],
   "source": [
    "sens = tp / (fn + tp)\n",
    "print('Sensitivity for Naive Bayes:', sens)"
   ]
  },
  {
   "cell_type": "code",
   "execution_count": 325,
   "id": "cdd9ac88-55be-4b25-9d27-e62ecc8380e0",
   "metadata": {},
   "outputs": [
    {
     "name": "stdout",
     "output_type": "stream",
     "text": [
      "Accuracy for NB is:  0.8886438809261301\n",
      "Precision for NB is:  0.8705636743215032\n",
      "Recall for NB is:  0.9144736842105263\n",
      "F1 score for NB is:  0.8919786096256684\n"
     ]
    }
   ],
   "source": [
    "print('Accuracy for NB is: ', accuracy_score(y_test, preds))\n",
    "print('Precision for NB is: ', precision_score(y_test, preds))\n",
    "print('Recall for NB is: ', recall_score(y_test, preds))\n",
    "print('F1 score for NB is: ', f1_score(y_test, preds))"
   ]
  },
  {
   "cell_type": "code",
   "execution_count": 326,
   "id": "0a043a17-224b-4ad0-86e1-6e90abb086d7",
   "metadata": {},
   "outputs": [
    {
     "name": "stdout",
     "output_type": "stream",
     "text": [
      "ROC-AUC score for NB is:  0.9592523437196094\n"
     ]
    }
   ],
   "source": [
    "gs_nb_roc_auc = roc_auc_score(y_test, gs_nb.predict_proba(X_test)[:,1])\n",
    "print('ROC-AUC score for NB is: ', gs_nb_roc_auc)"
   ]
  },
  {
   "cell_type": "code",
   "execution_count": 364,
   "id": "af619b75-23ba-475d-a165-cd1e866161bf",
   "metadata": {},
   "outputs": [
    {
     "data": {
      "text/html": [
       "<style>#sk-container-id-22 {color: black;background-color: white;}#sk-container-id-22 pre{padding: 0;}#sk-container-id-22 div.sk-toggleable {background-color: white;}#sk-container-id-22 label.sk-toggleable__label {cursor: pointer;display: block;width: 100%;margin-bottom: 0;padding: 0.3em;box-sizing: border-box;text-align: center;}#sk-container-id-22 label.sk-toggleable__label-arrow:before {content: \"▸\";float: left;margin-right: 0.25em;color: #696969;}#sk-container-id-22 label.sk-toggleable__label-arrow:hover:before {color: black;}#sk-container-id-22 div.sk-estimator:hover label.sk-toggleable__label-arrow:before {color: black;}#sk-container-id-22 div.sk-toggleable__content {max-height: 0;max-width: 0;overflow: hidden;text-align: left;background-color: #f0f8ff;}#sk-container-id-22 div.sk-toggleable__content pre {margin: 0.2em;color: black;border-radius: 0.25em;background-color: #f0f8ff;}#sk-container-id-22 input.sk-toggleable__control:checked~div.sk-toggleable__content {max-height: 200px;max-width: 100%;overflow: auto;}#sk-container-id-22 input.sk-toggleable__control:checked~label.sk-toggleable__label-arrow:before {content: \"▾\";}#sk-container-id-22 div.sk-estimator input.sk-toggleable__control:checked~label.sk-toggleable__label {background-color: #d4ebff;}#sk-container-id-22 div.sk-label input.sk-toggleable__control:checked~label.sk-toggleable__label {background-color: #d4ebff;}#sk-container-id-22 input.sk-hidden--visually {border: 0;clip: rect(1px 1px 1px 1px);clip: rect(1px, 1px, 1px, 1px);height: 1px;margin: -1px;overflow: hidden;padding: 0;position: absolute;width: 1px;}#sk-container-id-22 div.sk-estimator {font-family: monospace;background-color: #f0f8ff;border: 1px dotted black;border-radius: 0.25em;box-sizing: border-box;margin-bottom: 0.5em;}#sk-container-id-22 div.sk-estimator:hover {background-color: #d4ebff;}#sk-container-id-22 div.sk-parallel-item::after {content: \"\";width: 100%;border-bottom: 1px solid gray;flex-grow: 1;}#sk-container-id-22 div.sk-label:hover label.sk-toggleable__label {background-color: #d4ebff;}#sk-container-id-22 div.sk-serial::before {content: \"\";position: absolute;border-left: 1px solid gray;box-sizing: border-box;top: 0;bottom: 0;left: 50%;z-index: 0;}#sk-container-id-22 div.sk-serial {display: flex;flex-direction: column;align-items: center;background-color: white;padding-right: 0.2em;padding-left: 0.2em;position: relative;}#sk-container-id-22 div.sk-item {position: relative;z-index: 1;}#sk-container-id-22 div.sk-parallel {display: flex;align-items: stretch;justify-content: center;background-color: white;position: relative;}#sk-container-id-22 div.sk-item::before, #sk-container-id-22 div.sk-parallel-item::before {content: \"\";position: absolute;border-left: 1px solid gray;box-sizing: border-box;top: 0;bottom: 0;left: 50%;z-index: -1;}#sk-container-id-22 div.sk-parallel-item {display: flex;flex-direction: column;z-index: 1;position: relative;background-color: white;}#sk-container-id-22 div.sk-parallel-item:first-child::after {align-self: flex-end;width: 50%;}#sk-container-id-22 div.sk-parallel-item:last-child::after {align-self: flex-start;width: 50%;}#sk-container-id-22 div.sk-parallel-item:only-child::after {width: 0;}#sk-container-id-22 div.sk-dashed-wrapped {border: 1px dashed gray;margin: 0 0.4em 0.5em 0.4em;box-sizing: border-box;padding-bottom: 0.4em;background-color: white;}#sk-container-id-22 div.sk-label label {font-family: monospace;font-weight: bold;display: inline-block;line-height: 1.2em;}#sk-container-id-22 div.sk-label-container {text-align: center;}#sk-container-id-22 div.sk-container {/* jupyter's `normalize.less` sets `[hidden] { display: none; }` but bootstrap.min.css set `[hidden] { display: none !important; }` so we also need the `!important` here to be able to override the default hidden behavior on the sphinx rendered scikit-learn.org. See: https://github.com/scikit-learn/scikit-learn/issues/21755 */display: inline-block !important;position: relative;}#sk-container-id-22 div.sk-text-repr-fallback {display: none;}</style><div id=\"sk-container-id-22\" class=\"sk-top-container\"><div class=\"sk-text-repr-fallback\"><pre>MultinomialNB()</pre><b>In a Jupyter environment, please rerun this cell to show the HTML representation or trust the notebook. <br />On GitHub, the HTML representation is unable to render, please try loading this page with nbviewer.org.</b></div><div class=\"sk-container\" hidden><div class=\"sk-item\"><div class=\"sk-estimator sk-toggleable\"><input class=\"sk-toggleable__control sk-hidden--visually\" id=\"sk-estimator-id-74\" type=\"checkbox\" checked><label for=\"sk-estimator-id-74\" class=\"sk-toggleable__label sk-toggleable__label-arrow\">MultinomialNB</label><div class=\"sk-toggleable__content\"><pre>MultinomialNB()</pre></div></div></div></div></div>"
      ],
      "text/plain": [
       "MultinomialNB()"
      ]
     },
     "execution_count": 364,
     "metadata": {},
     "output_type": "execute_result"
    }
   ],
   "source": [
    "# As I cannot extract the features and coefficients from GridSearch, I need to instantiate the model again\n",
    "\n",
    "# Instantiate the CountVectorizer with the best parameters found above\n",
    "cvec = CountVectorizer(max_features=5000, lowercase=False, ngram_range=(1,2))\n",
    "\n",
    "# Fit and transform the train and test data\n",
    "X_train_cvec = cvec.fit_transform(X_train)\n",
    "X_test_cvec = cvec.fit(X_test)\n",
    "\n",
    "# Instantiate the Naive Bayes Model with the best params\n",
    "nb = MultinomialNB()\n",
    "\n",
    "# Fit the model\n",
    "nb.fit(X_train_cvec, y_train)"
   ]
  },
  {
   "cell_type": "code",
   "execution_count": 365,
   "id": "4451b770-e28c-43ef-ad29-725cee680164",
   "metadata": {},
   "outputs": [],
   "source": [
    "coffee_impt_words = pd.DataFrame(data=[cvec.get_feature_names_out(), \n",
    "                                     np.exp(nb.feature_log_prob_[1])], \n",
    "                                     index=['word', 'prob'])\n",
    "coffee_impt_words = coffee_impt_words.T.sort_values('prob', ascending=False)\n",
    "\n",
    "tea_impt_words = pd.DataFrame(data=[cvec.get_feature_names_out(), \n",
    "                                     np.exp(nb.feature_log_prob_[0])], \n",
    "                                     index=['word', 'prob'])\n",
    "tea_impt_words = tea_impt_words.T.sort_values('prob', ascending=False)"
   ]
  },
  {
   "cell_type": "code",
   "execution_count": 366,
   "id": "51f2f161-d9ce-43b0-9c58-e46239feba7d",
   "metadata": {},
   "outputs": [
    {
     "data": {
      "text/html": [
       "<div>\n",
       "<style scoped>\n",
       "    .dataframe tbody tr th:only-of-type {\n",
       "        vertical-align: middle;\n",
       "    }\n",
       "\n",
       "    .dataframe tbody tr th {\n",
       "        vertical-align: top;\n",
       "    }\n",
       "\n",
       "    .dataframe thead th {\n",
       "        text-align: right;\n",
       "    }\n",
       "</style>\n",
       "<table border=\"1\" class=\"dataframe\">\n",
       "  <thead>\n",
       "    <tr style=\"text-align: right;\">\n",
       "      <th></th>\n",
       "      <th>word</th>\n",
       "      <th>prob</th>\n",
       "    </tr>\n",
       "  </thead>\n",
       "  <tbody>\n",
       "    <tr>\n",
       "      <th>667</th>\n",
       "      <td>floral</td>\n",
       "      <td>0.024178</td>\n",
       "    </tr>\n",
       "    <tr>\n",
       "      <th>256</th>\n",
       "      <td>carry</td>\n",
       "      <td>0.006813</td>\n",
       "    </tr>\n",
       "    <tr>\n",
       "      <th>4779</th>\n",
       "      <td>using doenst</td>\n",
       "      <td>0.005833</td>\n",
       "    </tr>\n",
       "    <tr>\n",
       "      <th>1739</th>\n",
       "      <td>one recommend</td>\n",
       "      <td>0.004987</td>\n",
       "    </tr>\n",
       "    <tr>\n",
       "      <th>1596</th>\n",
       "      <td>obsolete yet</td>\n",
       "      <td>0.004898</td>\n",
       "    </tr>\n",
       "    <tr>\n",
       "      <th>4466</th>\n",
       "      <td>try see</td>\n",
       "      <td>0.004675</td>\n",
       "    </tr>\n",
       "    <tr>\n",
       "      <th>1217</th>\n",
       "      <td>mostly go</td>\n",
       "      <td>0.004542</td>\n",
       "    </tr>\n",
       "    <tr>\n",
       "      <th>412</th>\n",
       "      <td>custom temperature</td>\n",
       "      <td>0.004364</td>\n",
       "    </tr>\n",
       "    <tr>\n",
       "      <th>4207</th>\n",
       "      <td>timer</td>\n",
       "      <td>0.004319</td>\n",
       "    </tr>\n",
       "    <tr>\n",
       "      <th>4651</th>\n",
       "      <td>unsupervisedbeginner</td>\n",
       "      <td>0.004186</td>\n",
       "    </tr>\n",
       "  </tbody>\n",
       "</table>\n",
       "</div>"
      ],
      "text/plain": [
       "                      word      prob\n",
       "667                 floral  0.024178\n",
       "256                  carry  0.006813\n",
       "4779          using doenst  0.005833\n",
       "1739         one recommend  0.004987\n",
       "1596          obsolete yet  0.004898\n",
       "4466               try see  0.004675\n",
       "1217             mostly go  0.004542\n",
       "412     custom temperature  0.004364\n",
       "4207                 timer  0.004319\n",
       "4651  unsupervisedbeginner  0.004186"
      ]
     },
     "execution_count": 366,
     "metadata": {},
     "output_type": "execute_result"
    }
   ],
   "source": [
    "coffee_impt_words.head(10)"
   ]
  },
  {
   "cell_type": "code",
   "execution_count": 367,
   "id": "cba475a0-c57c-4356-9bb4-aa331c8cad74",
   "metadata": {},
   "outputs": [
    {
     "data": {
      "text/html": [
       "<div>\n",
       "<style scoped>\n",
       "    .dataframe tbody tr th:only-of-type {\n",
       "        vertical-align: middle;\n",
       "    }\n",
       "\n",
       "    .dataframe tbody tr th {\n",
       "        vertical-align: top;\n",
       "    }\n",
       "\n",
       "    .dataframe thead th {\n",
       "        text-align: right;\n",
       "    }\n",
       "</style>\n",
       "<table border=\"1\" class=\"dataframe\">\n",
       "  <thead>\n",
       "    <tr style=\"text-align: right;\">\n",
       "      <th></th>\n",
       "      <th>word</th>\n",
       "      <th>prob</th>\n",
       "    </tr>\n",
       "  </thead>\n",
       "  <tbody>\n",
       "    <tr>\n",
       "      <th>4238</th>\n",
       "      <td>tldr bought</td>\n",
       "      <td>0.043513</td>\n",
       "    </tr>\n",
       "    <tr>\n",
       "      <th>2172</th>\n",
       "      <td>plastic hario</td>\n",
       "      <td>0.0047</td>\n",
       "    </tr>\n",
       "    <tr>\n",
       "      <th>1730</th>\n",
       "      <td>one mostly</td>\n",
       "      <td>0.004277</td>\n",
       "    </tr>\n",
       "    <tr>\n",
       "      <th>901</th>\n",
       "      <td>including</td>\n",
       "      <td>0.004225</td>\n",
       "    </tr>\n",
       "    <tr>\n",
       "      <th>1664</th>\n",
       "      <td>oh well</td>\n",
       "      <td>0.004013</td>\n",
       "    </tr>\n",
       "    <tr>\n",
       "      <th>3264</th>\n",
       "      <td>rinse mini</td>\n",
       "      <td>0.003696</td>\n",
       "    </tr>\n",
       "    <tr>\n",
       "      <th>4466</th>\n",
       "      <td>try see</td>\n",
       "      <td>0.003696</td>\n",
       "    </tr>\n",
       "    <tr>\n",
       "      <th>1596</th>\n",
       "      <td>obsolete yet</td>\n",
       "      <td>0.003485</td>\n",
       "    </tr>\n",
       "    <tr>\n",
       "      <th>4779</th>\n",
       "      <td>using doenst</td>\n",
       "      <td>0.003432</td>\n",
       "    </tr>\n",
       "    <tr>\n",
       "      <th>2849</th>\n",
       "      <td>read get</td>\n",
       "      <td>0.003327</td>\n",
       "    </tr>\n",
       "  </tbody>\n",
       "</table>\n",
       "</div>"
      ],
      "text/plain": [
       "               word      prob\n",
       "4238    tldr bought  0.043513\n",
       "2172  plastic hario    0.0047\n",
       "1730     one mostly  0.004277\n",
       "901       including  0.004225\n",
       "1664        oh well  0.004013\n",
       "3264     rinse mini  0.003696\n",
       "4466        try see  0.003696\n",
       "1596   obsolete yet  0.003485\n",
       "4779   using doenst  0.003432\n",
       "2849       read get  0.003327"
      ]
     },
     "execution_count": 367,
     "metadata": {},
     "output_type": "execute_result"
    }
   ],
   "source": [
    "tea_impt_words.head(10)"
   ]
  },
  {
   "cell_type": "markdown",
   "id": "b0d25dc3-2740-4300-9ee4-4534a3c55e08",
   "metadata": {},
   "source": [
    "**Insights**: \n",
    "1. Advantages:\n",
    "    * The model is simple and easy to implement\n",
    "    * the results are decent (AUC Score is 0.96). This is because Naive Bayes requires less training data compared to other models\n",
    "2. Disadvantages:\n",
    "    * One of the biggest weakness is that it assumes independence between features, which may not be true in most real-world scenarios\n",
    "    * Also, it might not perform as well if there are a lot of overlap in the features between coffee and tea. This is highly probable, given that both are drinks and are often compared side by side\n",
    "3. Also, naive bayes allows us to know the features that are important for the prediction. I then took this opportunity to find the "
   ]
  },
  {
   "cell_type": "code",
   "execution_count": null,
   "id": "fa89245c-bd3f-4efa-b5a5-e2605998d8e6",
   "metadata": {},
   "outputs": [],
   "source": []
  },
  {
   "cell_type": "markdown",
   "id": "dda5b858-dbea-48f6-8070-5878f8593df3",
   "metadata": {},
   "source": [
    "## 3.2 Logistic Regression\n",
    "The main benefit of a logistic regression is that its coefficients are interpretable (sigma), and it performs well for a binary classification problem statement."
   ]
  },
  {
   "cell_type": "code",
   "execution_count": 199,
   "id": "ee5ed5e8-ca79-4bb2-8dd9-888baaf6ffe6",
   "metadata": {},
   "outputs": [],
   "source": [
    "# initiating the pipeline with TfidfVectorizer and logistic regression\n",
    "pipe_logreg = Pipeline([\n",
    "    ('tvec', TfidfVectorizer()),\n",
    "    ('logreg', LogisticRegression(random_state=42))\n",
    "])"
   ]
  },
  {
   "cell_type": "code",
   "execution_count": 200,
   "id": "e2583864-a48c-43cb-9874-aa97522985c0",
   "metadata": {},
   "outputs": [],
   "source": [
    "pipe_logreg_params = {\n",
    "    'tvec__max_features': [1000, 2500, 5000], #include the 𝑁 most popular vocabulary words in the corpus\n",
    "    \"tvec__stop_words\":   ['english'],\n",
    "    'tvec__ngram_range': [(1,1), (1,2)],#capture either unigram or bigram \n",
    "    'logreg__penalty':    ['l1', 'l2'], # using Lasso and Ridge regularization\n",
    "}"
   ]
  },
  {
   "cell_type": "code",
   "execution_count": 201,
   "id": "0fb8d63b-01dd-4f70-aa7e-cdf750d93602",
   "metadata": {},
   "outputs": [],
   "source": [
    "gs_logreg = GridSearchCV(pipe_logreg, \n",
    "                  param_grid=pipe_logreg_params, \n",
    "                  cv=5) # 5 folds CV"
   ]
  },
  {
   "cell_type": "code",
   "execution_count": 202,
   "id": "53a7fb56-2942-45d1-8803-83c22994b948",
   "metadata": {},
   "outputs": [
    {
     "name": "stderr",
     "output_type": "stream",
     "text": [
      "/usr/local/Caskroom/miniconda/base/envs/dsi-sg/lib/python3.9/site-packages/sklearn/model_selection/_validation.py:378: FitFailedWarning: \n",
      "30 fits failed out of a total of 60.\n",
      "The score on these train-test partitions for these parameters will be set to nan.\n",
      "If these failures are not expected, you can try to debug them by setting error_score='raise'.\n",
      "\n",
      "Below are more details about the failures:\n",
      "--------------------------------------------------------------------------------\n",
      "30 fits failed with the following error:\n",
      "Traceback (most recent call last):\n",
      "  File \"/usr/local/Caskroom/miniconda/base/envs/dsi-sg/lib/python3.9/site-packages/sklearn/model_selection/_validation.py\", line 686, in _fit_and_score\n",
      "    estimator.fit(X_train, y_train, **fit_params)\n",
      "  File \"/usr/local/Caskroom/miniconda/base/envs/dsi-sg/lib/python3.9/site-packages/sklearn/pipeline.py\", line 382, in fit\n",
      "    self._final_estimator.fit(Xt, y, **fit_params_last_step)\n",
      "  File \"/usr/local/Caskroom/miniconda/base/envs/dsi-sg/lib/python3.9/site-packages/sklearn/linear_model/_logistic.py\", line 1091, in fit\n",
      "    solver = _check_solver(self.solver, self.penalty, self.dual)\n",
      "  File \"/usr/local/Caskroom/miniconda/base/envs/dsi-sg/lib/python3.9/site-packages/sklearn/linear_model/_logistic.py\", line 61, in _check_solver\n",
      "    raise ValueError(\n",
      "ValueError: Solver lbfgs supports only 'l2' or 'none' penalties, got l1 penalty.\n",
      "\n",
      "  warnings.warn(some_fits_failed_message, FitFailedWarning)\n",
      "/usr/local/Caskroom/miniconda/base/envs/dsi-sg/lib/python3.9/site-packages/sklearn/model_selection/_search.py:953: UserWarning: One or more of the test scores are non-finite: [       nan        nan        nan        nan        nan        nan\n",
      " 0.86477541 0.8643026  0.87328605 0.87423168 0.87186761 0.87754137]\n",
      "  warnings.warn(\n"
     ]
    },
    {
     "data": {
      "text/html": [
       "<style>#sk-container-id-10 {color: black;background-color: white;}#sk-container-id-10 pre{padding: 0;}#sk-container-id-10 div.sk-toggleable {background-color: white;}#sk-container-id-10 label.sk-toggleable__label {cursor: pointer;display: block;width: 100%;margin-bottom: 0;padding: 0.3em;box-sizing: border-box;text-align: center;}#sk-container-id-10 label.sk-toggleable__label-arrow:before {content: \"▸\";float: left;margin-right: 0.25em;color: #696969;}#sk-container-id-10 label.sk-toggleable__label-arrow:hover:before {color: black;}#sk-container-id-10 div.sk-estimator:hover label.sk-toggleable__label-arrow:before {color: black;}#sk-container-id-10 div.sk-toggleable__content {max-height: 0;max-width: 0;overflow: hidden;text-align: left;background-color: #f0f8ff;}#sk-container-id-10 div.sk-toggleable__content pre {margin: 0.2em;color: black;border-radius: 0.25em;background-color: #f0f8ff;}#sk-container-id-10 input.sk-toggleable__control:checked~div.sk-toggleable__content {max-height: 200px;max-width: 100%;overflow: auto;}#sk-container-id-10 input.sk-toggleable__control:checked~label.sk-toggleable__label-arrow:before {content: \"▾\";}#sk-container-id-10 div.sk-estimator input.sk-toggleable__control:checked~label.sk-toggleable__label {background-color: #d4ebff;}#sk-container-id-10 div.sk-label input.sk-toggleable__control:checked~label.sk-toggleable__label {background-color: #d4ebff;}#sk-container-id-10 input.sk-hidden--visually {border: 0;clip: rect(1px 1px 1px 1px);clip: rect(1px, 1px, 1px, 1px);height: 1px;margin: -1px;overflow: hidden;padding: 0;position: absolute;width: 1px;}#sk-container-id-10 div.sk-estimator {font-family: monospace;background-color: #f0f8ff;border: 1px dotted black;border-radius: 0.25em;box-sizing: border-box;margin-bottom: 0.5em;}#sk-container-id-10 div.sk-estimator:hover {background-color: #d4ebff;}#sk-container-id-10 div.sk-parallel-item::after {content: \"\";width: 100%;border-bottom: 1px solid gray;flex-grow: 1;}#sk-container-id-10 div.sk-label:hover label.sk-toggleable__label {background-color: #d4ebff;}#sk-container-id-10 div.sk-serial::before {content: \"\";position: absolute;border-left: 1px solid gray;box-sizing: border-box;top: 0;bottom: 0;left: 50%;z-index: 0;}#sk-container-id-10 div.sk-serial {display: flex;flex-direction: column;align-items: center;background-color: white;padding-right: 0.2em;padding-left: 0.2em;position: relative;}#sk-container-id-10 div.sk-item {position: relative;z-index: 1;}#sk-container-id-10 div.sk-parallel {display: flex;align-items: stretch;justify-content: center;background-color: white;position: relative;}#sk-container-id-10 div.sk-item::before, #sk-container-id-10 div.sk-parallel-item::before {content: \"\";position: absolute;border-left: 1px solid gray;box-sizing: border-box;top: 0;bottom: 0;left: 50%;z-index: -1;}#sk-container-id-10 div.sk-parallel-item {display: flex;flex-direction: column;z-index: 1;position: relative;background-color: white;}#sk-container-id-10 div.sk-parallel-item:first-child::after {align-self: flex-end;width: 50%;}#sk-container-id-10 div.sk-parallel-item:last-child::after {align-self: flex-start;width: 50%;}#sk-container-id-10 div.sk-parallel-item:only-child::after {width: 0;}#sk-container-id-10 div.sk-dashed-wrapped {border: 1px dashed gray;margin: 0 0.4em 0.5em 0.4em;box-sizing: border-box;padding-bottom: 0.4em;background-color: white;}#sk-container-id-10 div.sk-label label {font-family: monospace;font-weight: bold;display: inline-block;line-height: 1.2em;}#sk-container-id-10 div.sk-label-container {text-align: center;}#sk-container-id-10 div.sk-container {/* jupyter's `normalize.less` sets `[hidden] { display: none; }` but bootstrap.min.css set `[hidden] { display: none !important; }` so we also need the `!important` here to be able to override the default hidden behavior on the sphinx rendered scikit-learn.org. See: https://github.com/scikit-learn/scikit-learn/issues/21755 */display: inline-block !important;position: relative;}#sk-container-id-10 div.sk-text-repr-fallback {display: none;}</style><div id=\"sk-container-id-10\" class=\"sk-top-container\"><div class=\"sk-text-repr-fallback\"><pre>GridSearchCV(cv=5,\n",
       "             estimator=Pipeline(steps=[(&#x27;tvec&#x27;, TfidfVectorizer()),\n",
       "                                       (&#x27;logreg&#x27;,\n",
       "                                        LogisticRegression(random_state=42))]),\n",
       "             param_grid={&#x27;logreg__penalty&#x27;: [&#x27;l1&#x27;, &#x27;l2&#x27;],\n",
       "                         &#x27;tvec__max_features&#x27;: [1000, 2500, 5000],\n",
       "                         &#x27;tvec__ngram_range&#x27;: [(1, 1), (1, 2)],\n",
       "                         &#x27;tvec__stop_words&#x27;: [&#x27;english&#x27;]})</pre><b>In a Jupyter environment, please rerun this cell to show the HTML representation or trust the notebook. <br />On GitHub, the HTML representation is unable to render, please try loading this page with nbviewer.org.</b></div><div class=\"sk-container\" hidden><div class=\"sk-item sk-dashed-wrapped\"><div class=\"sk-label-container\"><div class=\"sk-label sk-toggleable\"><input class=\"sk-toggleable__control sk-hidden--visually\" id=\"sk-estimator-id-39\" type=\"checkbox\" ><label for=\"sk-estimator-id-39\" class=\"sk-toggleable__label sk-toggleable__label-arrow\">GridSearchCV</label><div class=\"sk-toggleable__content\"><pre>GridSearchCV(cv=5,\n",
       "             estimator=Pipeline(steps=[(&#x27;tvec&#x27;, TfidfVectorizer()),\n",
       "                                       (&#x27;logreg&#x27;,\n",
       "                                        LogisticRegression(random_state=42))]),\n",
       "             param_grid={&#x27;logreg__penalty&#x27;: [&#x27;l1&#x27;, &#x27;l2&#x27;],\n",
       "                         &#x27;tvec__max_features&#x27;: [1000, 2500, 5000],\n",
       "                         &#x27;tvec__ngram_range&#x27;: [(1, 1), (1, 2)],\n",
       "                         &#x27;tvec__stop_words&#x27;: [&#x27;english&#x27;]})</pre></div></div></div><div class=\"sk-parallel\"><div class=\"sk-parallel-item\"><div class=\"sk-item\"><div class=\"sk-label-container\"><div class=\"sk-label sk-toggleable\"><input class=\"sk-toggleable__control sk-hidden--visually\" id=\"sk-estimator-id-40\" type=\"checkbox\" ><label for=\"sk-estimator-id-40\" class=\"sk-toggleable__label sk-toggleable__label-arrow\">estimator: Pipeline</label><div class=\"sk-toggleable__content\"><pre>Pipeline(steps=[(&#x27;tvec&#x27;, TfidfVectorizer()),\n",
       "                (&#x27;logreg&#x27;, LogisticRegression(random_state=42))])</pre></div></div></div><div class=\"sk-serial\"><div class=\"sk-item\"><div class=\"sk-serial\"><div class=\"sk-item\"><div class=\"sk-estimator sk-toggleable\"><input class=\"sk-toggleable__control sk-hidden--visually\" id=\"sk-estimator-id-41\" type=\"checkbox\" ><label for=\"sk-estimator-id-41\" class=\"sk-toggleable__label sk-toggleable__label-arrow\">TfidfVectorizer</label><div class=\"sk-toggleable__content\"><pre>TfidfVectorizer()</pre></div></div></div><div class=\"sk-item\"><div class=\"sk-estimator sk-toggleable\"><input class=\"sk-toggleable__control sk-hidden--visually\" id=\"sk-estimator-id-42\" type=\"checkbox\" ><label for=\"sk-estimator-id-42\" class=\"sk-toggleable__label sk-toggleable__label-arrow\">LogisticRegression</label><div class=\"sk-toggleable__content\"><pre>LogisticRegression(random_state=42)</pre></div></div></div></div></div></div></div></div></div></div></div></div>"
      ],
      "text/plain": [
       "GridSearchCV(cv=5,\n",
       "             estimator=Pipeline(steps=[('tvec', TfidfVectorizer()),\n",
       "                                       ('logreg',\n",
       "                                        LogisticRegression(random_state=42))]),\n",
       "             param_grid={'logreg__penalty': ['l1', 'l2'],\n",
       "                         'tvec__max_features': [1000, 2500, 5000],\n",
       "                         'tvec__ngram_range': [(1, 1), (1, 2)],\n",
       "                         'tvec__stop_words': ['english']})"
      ]
     },
     "execution_count": 202,
     "metadata": {},
     "output_type": "execute_result"
    }
   ],
   "source": [
    "gs_logreg.fit(X_train, y_train)"
   ]
  },
  {
   "cell_type": "code",
   "execution_count": 203,
   "id": "8f46ac41-0b72-425b-a5a7-aa3572d8248b",
   "metadata": {},
   "outputs": [
    {
     "data": {
      "text/plain": [
       "{'logreg__penalty': 'l2',\n",
       " 'tvec__max_features': 5000,\n",
       " 'tvec__ngram_range': (1, 2),\n",
       " 'tvec__stop_words': 'english'}"
      ]
     },
     "execution_count": 203,
     "metadata": {},
     "output_type": "execute_result"
    }
   ],
   "source": [
    "gs_logreg.best_params_"
   ]
  },
  {
   "cell_type": "code",
   "execution_count": 204,
   "id": "9810ebaa-5e21-4b30-a766-9a77988a9382",
   "metadata": {},
   "outputs": [
    {
     "name": "stdout",
     "output_type": "stream",
     "text": [
      "0.8775413711583925\n"
     ]
    }
   ],
   "source": [
    "print(gs_logreg.best_score_)"
   ]
  },
  {
   "cell_type": "code",
   "execution_count": 205,
   "id": "c8703a89-721e-47c5-89b9-d529d0fa6b5b",
   "metadata": {},
   "outputs": [],
   "source": [
    "gs_logreg = gs_logreg.best_estimator_"
   ]
  },
  {
   "cell_type": "code",
   "execution_count": 206,
   "id": "7ce282e2-9416-498b-bdfb-c31d7480f173",
   "metadata": {},
   "outputs": [
    {
     "data": {
      "text/plain": [
       "0.9626477541371158"
      ]
     },
     "execution_count": 206,
     "metadata": {},
     "output_type": "execute_result"
    }
   ],
   "source": [
    "gs_logreg.score(X_train, y_train) # 0.96"
   ]
  },
  {
   "cell_type": "code",
   "execution_count": 207,
   "id": "30f10e54-2ab8-4ef0-9d48-cda10400a7ce",
   "metadata": {},
   "outputs": [
    {
     "data": {
      "text/plain": [
       "0.886438809261301"
      ]
     },
     "execution_count": 207,
     "metadata": {},
     "output_type": "execute_result"
    }
   ],
   "source": [
    "gs_logreg.score(X_test, y_test) # 0.89"
   ]
  },
  {
   "cell_type": "code",
   "execution_count": 208,
   "id": "1dee1d64-c274-4f28-b055-e34f688aa107",
   "metadata": {},
   "outputs": [],
   "source": [
    "# Get predictions\n",
    "preds_lr = gs_logreg.predict(X_test)\n",
    "\n",
    "# Save confusion matrix values\n",
    "tn, fp, fn, tp = confusion_matrix(y_test, preds_lr).ravel()"
   ]
  },
  {
   "cell_type": "code",
   "execution_count": 209,
   "id": "6ee36665-a3c2-4db9-89fb-0bb2ce05c6de",
   "metadata": {},
   "outputs": [
    {
     "name": "stderr",
     "output_type": "stream",
     "text": [
      "/usr/local/Caskroom/miniconda/base/envs/dsi-sg/lib/python3.9/site-packages/sklearn/utils/deprecation.py:87: FutureWarning: Function plot_confusion_matrix is deprecated; Function `plot_confusion_matrix` is deprecated in 1.0 and will be removed in 1.2. Use one of the class methods: ConfusionMatrixDisplay.from_predictions or ConfusionMatrixDisplay.from_estimator.\n",
      "  warnings.warn(msg, category=FutureWarning)\n"
     ]
    },
    {
     "data": {
      "image/png": "[encoded data removed]",
      "text/plain": [
       "<Figure size 640x480 with 2 Axes>"
      ]
     },
     "metadata": {},
     "output_type": "display_data"
    }
   ],
   "source": [
    "# View confusion matrix\n",
    "plot_confusion_matrix(gs_logreg, X_test, y_test, cmap='Blues', values_format='d');"
   ]
  },
  {
   "cell_type": "code",
   "execution_count": 210,
   "id": "dfbd716a-5b39-4448-9355-f50d3cbb1cc0",
   "metadata": {},
   "outputs": [
    {
     "name": "stdout",
     "output_type": "stream",
     "text": [
      "Specificity for LogReg: 0.8403547671840355\n"
     ]
    }
   ],
   "source": [
    "spec = tn / (tn + fp)\n",
    "print('Specificity for LogReg:', spec)"
   ]
  },
  {
   "cell_type": "code",
   "execution_count": 211,
   "id": "cb461a79-67d4-4e5d-95b5-dd54711f6e1d",
   "metadata": {},
   "outputs": [
    {
     "name": "stdout",
     "output_type": "stream",
     "text": [
      "Sensitivity for LogReg: 0.9320175438596491\n"
     ]
    }
   ],
   "source": [
    "sens = tp / (fn + tp)\n",
    "print('Sensitivity for LogReg:', sens)"
   ]
  },
  {
   "cell_type": "code",
   "execution_count": 212,
   "id": "3ac7e69e-9fe5-4992-9a85-ca7eeddeb4ff",
   "metadata": {},
   "outputs": [
    {
     "data": {
      "text/plain": [
       "0.886438809261301"
      ]
     },
     "execution_count": 212,
     "metadata": {},
     "output_type": "execute_result"
    }
   ],
   "source": [
    "accuracy_score(y_test, preds_lr)"
   ]
  },
  {
   "cell_type": "code",
   "execution_count": 213,
   "id": "b8af7491-870f-4247-b9e5-a07e0db9c875",
   "metadata": {},
   "outputs": [
    {
     "name": "stdout",
     "output_type": "stream",
     "text": [
      "Accuracy for LogReg:  0.886438809261301\n",
      "Precision for LogReg:  0.8551307847082495\n",
      "Recall for LogReg:  0.9320175438596491\n",
      "F1 score for LogReg:  0.8919202518363064\n"
     ]
    }
   ],
   "source": [
    "print('Accuracy for LogReg: ', accuracy_score(y_test, preds_lr))\n",
    "print('Precision for LogReg: ', precision_score(y_test, preds_lr))\n",
    "print('Recall for LogReg: ', recall_score(y_test, preds_lr))\n",
    "print('F1 score for LogReg: ', f1_score(y_test, preds_lr))"
   ]
  },
  {
   "cell_type": "code",
   "execution_count": 214,
   "id": "9c359e2b-f5db-42dd-84a5-47830e46d6e3",
   "metadata": {},
   "outputs": [
    {
     "name": "stdout",
     "output_type": "stream",
     "text": [
      "ROC-AUC score for LogReg is:  0.9605554907223713\n"
     ]
    }
   ],
   "source": [
    "gs_logreg_roc_auc = roc_auc_score(y_test, gs_logreg.predict_proba(X_test)[:,1])\n",
    "print('ROC-AUC score for LogReg is: ', gs_logreg_roc_auc)"
   ]
  },
  {
   "cell_type": "markdown",
   "id": "6a5cdda8-e533-4778-930b-05e9843f6e66",
   "metadata": {},
   "source": [
    "**Insights**: \n",
    "1. Advantages:\n",
    "    * it is a simple model; and it is suitable for this case as it is a binary classification problem\n",
    "    * it can be interpreted; it provides probabilities of a prediction belonging to either coffee or tea\n",
    "2. Disadvantages:\n",
    "    * it assumes a linear relationship between the independent variables, which may not be true especially in the context of NLP\n",
    "    * it may not work well when I want to predict more than 2 outcomes"
   ]
  },
  {
   "cell_type": "code",
   "execution_count": null,
   "id": "69bd0a4e-fc05-483a-8abb-1d348204d1a0",
   "metadata": {},
   "outputs": [],
   "source": []
  },
  {
   "cell_type": "markdown",
   "id": "b3188b6b-7f09-4ac2-81ed-2e98f4590b77",
   "metadata": {},
   "source": [
    "## 3.3 Decision Tree\n",
    "Decision Tree helps us to decide with feature to be put in the classification model. However, this can easily overfit as it is a greedy algorithm. I will try to use Bagging (Bootstrap Aggregation) Decision Tree, which can help to reduce the variance of individual classifiers, and hence can tame the overfitting tendency of a decision tree model."
   ]
  },
  {
   "cell_type": "code",
   "execution_count": 215,
   "id": "48eb9cf7-3a7b-4f33-adca-9b2847b2c142",
   "metadata": {},
   "outputs": [],
   "source": [
    "pipe_dt = Pipeline([\n",
    "    ('tvec', TfidfVectorizer()),\n",
    "    ('bag', BaggingClassifier(random_state=42))\n",
    "])"
   ]
  },
  {
   "cell_type": "code",
   "execution_count": 216,
   "id": "74142321-13b0-46e3-b947-528414eef69c",
   "metadata": {},
   "outputs": [],
   "source": [
    "param_dt_grid = {\n",
    "    'tvec__max_features': [1000, 2500, 5000], #include the 𝑁 most popular vocabulary words in the corpus\n",
    "    \"tvec__stop_words\":   ['english'],\n",
    "    'tvec__ngram_range': [(1,1), (1,2)],\n",
    "    'bag__n_estimators': [10, 50, 100], # number of base estimators in the ensemble\n",
    "    'bag__max_samples': [0.5, 1.0], # the fraction of samples to draw from X to train each base estimator\n",
    "    'bag__max_features': [0.5, 1.0], # the fraction of features to draw from X to train each base estimator\n",
    "    'bag__bootstrap': [True], # with replacement\n",
    "    'bag__bootstrap_features': [True], # with replacement\n",
    "}"
   ]
  },
  {
   "cell_type": "code",
   "execution_count": 217,
   "id": "d355c43b-b3f4-4871-a4d0-e2def43afa79",
   "metadata": {},
   "outputs": [],
   "source": [
    "gs_dt = GridSearchCV(pipe_dt, \n",
    "                  param_grid=param_dt_grid, \n",
    "                  cv=5)"
   ]
  },
  {
   "cell_type": "code",
   "execution_count": 218,
   "id": "f5fdb077-a673-4b07-aa1a-8599d730d786",
   "metadata": {},
   "outputs": [
    {
     "data": {
      "text/html": [
       "<style>#sk-container-id-11 {color: black;background-color: white;}#sk-container-id-11 pre{padding: 0;}#sk-container-id-11 div.sk-toggleable {background-color: white;}#sk-container-id-11 label.sk-toggleable__label {cursor: pointer;display: block;width: 100%;margin-bottom: 0;padding: 0.3em;box-sizing: border-box;text-align: center;}#sk-container-id-11 label.sk-toggleable__label-arrow:before {content: \"▸\";float: left;margin-right: 0.25em;color: #696969;}#sk-container-id-11 label.sk-toggleable__label-arrow:hover:before {color: black;}#sk-container-id-11 div.sk-estimator:hover label.sk-toggleable__label-arrow:before {color: black;}#sk-container-id-11 div.sk-toggleable__content {max-height: 0;max-width: 0;overflow: hidden;text-align: left;background-color: #f0f8ff;}#sk-container-id-11 div.sk-toggleable__content pre {margin: 0.2em;color: black;border-radius: 0.25em;background-color: #f0f8ff;}#sk-container-id-11 input.sk-toggleable__control:checked~div.sk-toggleable__content {max-height: 200px;max-width: 100%;overflow: auto;}#sk-container-id-11 input.sk-toggleable__control:checked~label.sk-toggleable__label-arrow:before {content: \"▾\";}#sk-container-id-11 div.sk-estimator input.sk-toggleable__control:checked~label.sk-toggleable__label {background-color: #d4ebff;}#sk-container-id-11 div.sk-label input.sk-toggleable__control:checked~label.sk-toggleable__label {background-color: #d4ebff;}#sk-container-id-11 input.sk-hidden--visually {border: 0;clip: rect(1px 1px 1px 1px);clip: rect(1px, 1px, 1px, 1px);height: 1px;margin: -1px;overflow: hidden;padding: 0;position: absolute;width: 1px;}#sk-container-id-11 div.sk-estimator {font-family: monospace;background-color: #f0f8ff;border: 1px dotted black;border-radius: 0.25em;box-sizing: border-box;margin-bottom: 0.5em;}#sk-container-id-11 div.sk-estimator:hover {background-color: #d4ebff;}#sk-container-id-11 div.sk-parallel-item::after {content: \"\";width: 100%;border-bottom: 1px solid gray;flex-grow: 1;}#sk-container-id-11 div.sk-label:hover label.sk-toggleable__label {background-color: #d4ebff;}#sk-container-id-11 div.sk-serial::before {content: \"\";position: absolute;border-left: 1px solid gray;box-sizing: border-box;top: 0;bottom: 0;left: 50%;z-index: 0;}#sk-container-id-11 div.sk-serial {display: flex;flex-direction: column;align-items: center;background-color: white;padding-right: 0.2em;padding-left: 0.2em;position: relative;}#sk-container-id-11 div.sk-item {position: relative;z-index: 1;}#sk-container-id-11 div.sk-parallel {display: flex;align-items: stretch;justify-content: center;background-color: white;position: relative;}#sk-container-id-11 div.sk-item::before, #sk-container-id-11 div.sk-parallel-item::before {content: \"\";position: absolute;border-left: 1px solid gray;box-sizing: border-box;top: 0;bottom: 0;left: 50%;z-index: -1;}#sk-container-id-11 div.sk-parallel-item {display: flex;flex-direction: column;z-index: 1;position: relative;background-color: white;}#sk-container-id-11 div.sk-parallel-item:first-child::after {align-self: flex-end;width: 50%;}#sk-container-id-11 div.sk-parallel-item:last-child::after {align-self: flex-start;width: 50%;}#sk-container-id-11 div.sk-parallel-item:only-child::after {width: 0;}#sk-container-id-11 div.sk-dashed-wrapped {border: 1px dashed gray;margin: 0 0.4em 0.5em 0.4em;box-sizing: border-box;padding-bottom: 0.4em;background-color: white;}#sk-container-id-11 div.sk-label label {font-family: monospace;font-weight: bold;display: inline-block;line-height: 1.2em;}#sk-container-id-11 div.sk-label-container {text-align: center;}#sk-container-id-11 div.sk-container {/* jupyter's `normalize.less` sets `[hidden] { display: none; }` but bootstrap.min.css set `[hidden] { display: none !important; }` so we also need the `!important` here to be able to override the default hidden behavior on the sphinx rendered scikit-learn.org. See: https://github.com/scikit-learn/scikit-learn/issues/21755 */display: inline-block !important;position: relative;}#sk-container-id-11 div.sk-text-repr-fallback {display: none;}</style><div id=\"sk-container-id-11\" class=\"sk-top-container\"><div class=\"sk-text-repr-fallback\"><pre>GridSearchCV(cv=5,\n",
       "             estimator=Pipeline(steps=[(&#x27;tvec&#x27;, TfidfVectorizer()),\n",
       "                                       (&#x27;bag&#x27;,\n",
       "                                        BaggingClassifier(random_state=42))]),\n",
       "             param_grid={&#x27;bag__bootstrap&#x27;: [True],\n",
       "                         &#x27;bag__bootstrap_features&#x27;: [True],\n",
       "                         &#x27;bag__max_features&#x27;: [0.5, 1.0],\n",
       "                         &#x27;bag__max_samples&#x27;: [0.5, 1.0],\n",
       "                         &#x27;bag__n_estimators&#x27;: [10, 50, 100],\n",
       "                         &#x27;tvec__max_features&#x27;: [1000, 2500, 5000],\n",
       "                         &#x27;tvec__ngram_range&#x27;: [(1, 1), (1, 2)],\n",
       "                         &#x27;tvec__stop_words&#x27;: [&#x27;english&#x27;]})</pre><b>In a Jupyter environment, please rerun this cell to show the HTML representation or trust the notebook. <br />On GitHub, the HTML representation is unable to render, please try loading this page with nbviewer.org.</b></div><div class=\"sk-container\" hidden><div class=\"sk-item sk-dashed-wrapped\"><div class=\"sk-label-container\"><div class=\"sk-label sk-toggleable\"><input class=\"sk-toggleable__control sk-hidden--visually\" id=\"sk-estimator-id-43\" type=\"checkbox\" ><label for=\"sk-estimator-id-43\" class=\"sk-toggleable__label sk-toggleable__label-arrow\">GridSearchCV</label><div class=\"sk-toggleable__content\"><pre>GridSearchCV(cv=5,\n",
       "             estimator=Pipeline(steps=[(&#x27;tvec&#x27;, TfidfVectorizer()),\n",
       "                                       (&#x27;bag&#x27;,\n",
       "                                        BaggingClassifier(random_state=42))]),\n",
       "             param_grid={&#x27;bag__bootstrap&#x27;: [True],\n",
       "                         &#x27;bag__bootstrap_features&#x27;: [True],\n",
       "                         &#x27;bag__max_features&#x27;: [0.5, 1.0],\n",
       "                         &#x27;bag__max_samples&#x27;: [0.5, 1.0],\n",
       "                         &#x27;bag__n_estimators&#x27;: [10, 50, 100],\n",
       "                         &#x27;tvec__max_features&#x27;: [1000, 2500, 5000],\n",
       "                         &#x27;tvec__ngram_range&#x27;: [(1, 1), (1, 2)],\n",
       "                         &#x27;tvec__stop_words&#x27;: [&#x27;english&#x27;]})</pre></div></div></div><div class=\"sk-parallel\"><div class=\"sk-parallel-item\"><div class=\"sk-item\"><div class=\"sk-label-container\"><div class=\"sk-label sk-toggleable\"><input class=\"sk-toggleable__control sk-hidden--visually\" id=\"sk-estimator-id-44\" type=\"checkbox\" ><label for=\"sk-estimator-id-44\" class=\"sk-toggleable__label sk-toggleable__label-arrow\">estimator: Pipeline</label><div class=\"sk-toggleable__content\"><pre>Pipeline(steps=[(&#x27;tvec&#x27;, TfidfVectorizer()),\n",
       "                (&#x27;bag&#x27;, BaggingClassifier(random_state=42))])</pre></div></div></div><div class=\"sk-serial\"><div class=\"sk-item\"><div class=\"sk-serial\"><div class=\"sk-item\"><div class=\"sk-estimator sk-toggleable\"><input class=\"sk-toggleable__control sk-hidden--visually\" id=\"sk-estimator-id-45\" type=\"checkbox\" ><label for=\"sk-estimator-id-45\" class=\"sk-toggleable__label sk-toggleable__label-arrow\">TfidfVectorizer</label><div class=\"sk-toggleable__content\"><pre>TfidfVectorizer()</pre></div></div></div><div class=\"sk-item\"><div class=\"sk-estimator sk-toggleable\"><input class=\"sk-toggleable__control sk-hidden--visually\" id=\"sk-estimator-id-46\" type=\"checkbox\" ><label for=\"sk-estimator-id-46\" class=\"sk-toggleable__label sk-toggleable__label-arrow\">BaggingClassifier</label><div class=\"sk-toggleable__content\"><pre>BaggingClassifier(random_state=42)</pre></div></div></div></div></div></div></div></div></div></div></div></div>"
      ],
      "text/plain": [
       "GridSearchCV(cv=5,\n",
       "             estimator=Pipeline(steps=[('tvec', TfidfVectorizer()),\n",
       "                                       ('bag',\n",
       "                                        BaggingClassifier(random_state=42))]),\n",
       "             param_grid={'bag__bootstrap': [True],\n",
       "                         'bag__bootstrap_features': [True],\n",
       "                         'bag__max_features': [0.5, 1.0],\n",
       "                         'bag__max_samples': [0.5, 1.0],\n",
       "                         'bag__n_estimators': [10, 50, 100],\n",
       "                         'tvec__max_features': [1000, 2500, 5000],\n",
       "                         'tvec__ngram_range': [(1, 1), (1, 2)],\n",
       "                         'tvec__stop_words': ['english']})"
      ]
     },
     "execution_count": 218,
     "metadata": {},
     "output_type": "execute_result"
    }
   ],
   "source": [
    "gs_dt.fit(X_train, y_train)"
   ]
  },
  {
   "cell_type": "code",
   "execution_count": 219,
   "id": "916102f2-3ec2-499f-888b-cce79b0f8ae9",
   "metadata": {},
   "outputs": [
    {
     "data": {
      "text/plain": [
       "{'bag__bootstrap': True,\n",
       " 'bag__bootstrap_features': True,\n",
       " 'bag__max_features': 0.5,\n",
       " 'bag__max_samples': 1.0,\n",
       " 'bag__n_estimators': 100,\n",
       " 'tvec__max_features': 2500,\n",
       " 'tvec__ngram_range': (1, 1),\n",
       " 'tvec__stop_words': 'english'}"
      ]
     },
     "execution_count": 219,
     "metadata": {},
     "output_type": "execute_result"
    }
   ],
   "source": [
    "gs_dt.best_params_"
   ]
  },
  {
   "cell_type": "code",
   "execution_count": 220,
   "id": "ce0d7315-1214-4a9b-a891-04c4288b95ae",
   "metadata": {},
   "outputs": [],
   "source": [
    "gs_dt = gs_dt.best_estimator_"
   ]
  },
  {
   "cell_type": "code",
   "execution_count": 221,
   "id": "a013d31c-6fcf-47d6-acba-c78978600ad7",
   "metadata": {},
   "outputs": [
    {
     "data": {
      "text/plain": [
       "0.9815602836879432"
      ]
     },
     "execution_count": 221,
     "metadata": {},
     "output_type": "execute_result"
    }
   ],
   "source": [
    "gs_dt.score(X_train, y_train) "
   ]
  },
  {
   "cell_type": "code",
   "execution_count": 222,
   "id": "842e4694-fbf8-440a-9914-b7bc50944b13",
   "metadata": {},
   "outputs": [
    {
     "data": {
      "text/plain": [
       "0.8665931642778391"
      ]
     },
     "execution_count": 222,
     "metadata": {},
     "output_type": "execute_result"
    }
   ],
   "source": [
    "gs_dt.score(X_test, y_test) # 0.87"
   ]
  },
  {
   "cell_type": "code",
   "execution_count": 223,
   "id": "a8b603d0-20e8-4f80-85d8-88b7961198e3",
   "metadata": {},
   "outputs": [],
   "source": [
    "# Get predictions\n",
    "preds = gs_dt.predict(X_test)\n",
    "\n",
    "# Save confusion matrix values\n",
    "tn, fp, fn, tp = confusion_matrix(y_test, preds).ravel()"
   ]
  },
  {
   "cell_type": "code",
   "execution_count": 224,
   "id": "23dfae95-ab8c-422d-a02f-094a7d08df4d",
   "metadata": {},
   "outputs": [
    {
     "name": "stderr",
     "output_type": "stream",
     "text": [
      "/usr/local/Caskroom/miniconda/base/envs/dsi-sg/lib/python3.9/site-packages/sklearn/utils/deprecation.py:87: FutureWarning: Function plot_confusion_matrix is deprecated; Function `plot_confusion_matrix` is deprecated in 1.0 and will be removed in 1.2. Use one of the class methods: ConfusionMatrixDisplay.from_predictions or ConfusionMatrixDisplay.from_estimator.\n",
      "  warnings.warn(msg, category=FutureWarning)\n"
     ]
    },
    {
     "data": {
      "image/png": "[encoded data removed]",
      "text/plain": [
       "<Figure size 640x480 with 2 Axes>"
      ]
     },
     "metadata": {},
     "output_type": "display_data"
    }
   ],
   "source": [
    "# View confusion matrix\n",
    "plot_confusion_matrix(gs_dt, X_test, y_test, cmap='Blues', values_format='d');"
   ]
  },
  {
   "cell_type": "code",
   "execution_count": 225,
   "id": "52df51c7-2026-4ed0-b0a8-ba8d2e7fc09d",
   "metadata": {},
   "outputs": [
    {
     "name": "stdout",
     "output_type": "stream",
     "text": [
      "Sensitivity for Decision Tree: 0.8399122807017544\n"
     ]
    }
   ],
   "source": [
    "sens = tp / (fn + tp)\n",
    "print('Sensitivity for Decision Tree:', sens)"
   ]
  },
  {
   "cell_type": "code",
   "execution_count": 226,
   "id": "d6baefb0-fb6d-43dd-b136-1f1636d0737b",
   "metadata": {},
   "outputs": [
    {
     "name": "stdout",
     "output_type": "stream",
     "text": [
      "Specificity for Decision Tree: 0.893569844789357\n"
     ]
    }
   ],
   "source": [
    "spec = tn / (tn + fp)\n",
    "print('Specificity for Decision Tree:', spec)"
   ]
  },
  {
   "cell_type": "code",
   "execution_count": 227,
   "id": "8d782d1c-755b-43ac-a192-a34c1c258049",
   "metadata": {},
   "outputs": [
    {
     "data": {
      "text/plain": [
       "0.8665931642778391"
      ]
     },
     "execution_count": 227,
     "metadata": {},
     "output_type": "execute_result"
    }
   ],
   "source": [
    "accuracy_score(y_test, preds)"
   ]
  },
  {
   "cell_type": "code",
   "execution_count": 228,
   "id": "f8502558-f889-4d8f-8695-ea392502c52e",
   "metadata": {},
   "outputs": [
    {
     "name": "stdout",
     "output_type": "stream",
     "text": [
      "Precision for Decision Tree:  0.888631090487239\n",
      "Recall for Decision Tree:  0.8399122807017544\n",
      "F1 score for Decision Tree:  0.8635851183765502\n"
     ]
    }
   ],
   "source": [
    "print('Precision for Decision Tree: ', precision_score(y_test, preds))\n",
    "print('Recall for Decision Tree: ', recall_score(y_test, preds))\n",
    "print('F1 score for Decision Tree: ', f1_score(y_test, preds))"
   ]
  },
  {
   "cell_type": "code",
   "execution_count": 229,
   "id": "7af1d100-e9ca-4af8-ae29-4c276452264f",
   "metadata": {},
   "outputs": [
    {
     "name": "stdout",
     "output_type": "stream",
     "text": [
      "ROC-AUC score for Decision Tree is:  0.9477768701131988\n"
     ]
    }
   ],
   "source": [
    "gs_dt_roc_auc = roc_auc_score(y_test, gs_dt.predict_proba(X_test)[:,1])\n",
    "print('ROC-AUC score for Decision Tree is: ', gs_dt_roc_auc)"
   ]
  },
  {
   "cell_type": "markdown",
   "id": "0cb58b0a-90c1-4325-9f15-91092e02bb21",
   "metadata": {},
   "source": [
    "**Insights:**\n",
    "1. Advantages:\n",
    "    * the model can capture a more complex non-linear relationships between variables. This is shown via the high validation score (0.98)\n",
    "2. Disadvantages:\n",
    "    * this model can easily overfits. This is shown by the much lower test score (0.87) as compared to the validation score"
   ]
  },
  {
   "cell_type": "code",
   "execution_count": null,
   "id": "ee8c8f9e-b568-4c0f-be6d-efca9a722fa9",
   "metadata": {},
   "outputs": [],
   "source": []
  },
  {
   "cell_type": "markdown",
   "id": "495c44b0-8916-41b4-8adf-8e680cd00d70",
   "metadata": {},
   "source": [
    "## 3.4 KNN\n",
    "KNN calculates the distance between neighbors, it's highly sensitive to the magnitude of features. As I am using tf-idf on the X-variables, we don't need to do standard scaling as it is being normalized."
   ]
  },
  {
   "cell_type": "code",
   "execution_count": 230,
   "id": "df12c04c-5b5e-4842-8f8b-f2bc00d524a4",
   "metadata": {},
   "outputs": [],
   "source": [
    "pipe_knn = Pipeline([\n",
    "    ('tvec', TfidfVectorizer()),\n",
    "    ('knn', KNeighborsClassifier())\n",
    "])"
   ]
  },
  {
   "cell_type": "code",
   "execution_count": 231,
   "id": "0eadc1a3-6aaa-46d6-960f-b09df9776c71",
   "metadata": {},
   "outputs": [],
   "source": [
    "param_knn_grid = {\n",
    "    'tvec__max_features': [1000, 2500, 5000], #include the n most popular vocabulary words in the corpus\n",
    "    \"tvec__stop_words\":   ['english'],\n",
    "    'tvec__ngram_range': [(1,1), (1,2)],\n",
    "    'knn__n_neighbors': range(1, 20, 2), # specify the number of neighbors\n",
    "    'knn__weights': ['uniform', 'distance'], # weight function will be used in prediction. with distance, closer neighbors are weighted more heavily\n",
    "    'knn__metric': ['manhattan', 'minkowski'], # the fraction of features to draw from X to train each base estimator\n",
    "    'knn__leaf_size': range(10, 80, 5)\n",
    "}"
   ]
  },
  {
   "cell_type": "code",
   "execution_count": 232,
   "id": "d35cd2d3-fd45-4cb8-aa11-1194199f6e4e",
   "metadata": {},
   "outputs": [],
   "source": [
    "gs_knn = GridSearchCV(pipe_knn, \n",
    "                  param_grid=param_knn_grid, \n",
    "                  cv=5)"
   ]
  },
  {
   "cell_type": "code",
   "execution_count": 233,
   "id": "ff179826-f5f2-4ca9-8d4a-7d825a2fc0c9",
   "metadata": {},
   "outputs": [
    {
     "data": {
      "text/html": [
       "<style>#sk-container-id-12 {color: black;background-color: white;}#sk-container-id-12 pre{padding: 0;}#sk-container-id-12 div.sk-toggleable {background-color: white;}#sk-container-id-12 label.sk-toggleable__label {cursor: pointer;display: block;width: 100%;margin-bottom: 0;padding: 0.3em;box-sizing: border-box;text-align: center;}#sk-container-id-12 label.sk-toggleable__label-arrow:before {content: \"▸\";float: left;margin-right: 0.25em;color: #696969;}#sk-container-id-12 label.sk-toggleable__label-arrow:hover:before {color: black;}#sk-container-id-12 div.sk-estimator:hover label.sk-toggleable__label-arrow:before {color: black;}#sk-container-id-12 div.sk-toggleable__content {max-height: 0;max-width: 0;overflow: hidden;text-align: left;background-color: #f0f8ff;}#sk-container-id-12 div.sk-toggleable__content pre {margin: 0.2em;color: black;border-radius: 0.25em;background-color: #f0f8ff;}#sk-container-id-12 input.sk-toggleable__control:checked~div.sk-toggleable__content {max-height: 200px;max-width: 100%;overflow: auto;}#sk-container-id-12 input.sk-toggleable__control:checked~label.sk-toggleable__label-arrow:before {content: \"▾\";}#sk-container-id-12 div.sk-estimator input.sk-toggleable__control:checked~label.sk-toggleable__label {background-color: #d4ebff;}#sk-container-id-12 div.sk-label input.sk-toggleable__control:checked~label.sk-toggleable__label {background-color: #d4ebff;}#sk-container-id-12 input.sk-hidden--visually {border: 0;clip: rect(1px 1px 1px 1px);clip: rect(1px, 1px, 1px, 1px);height: 1px;margin: -1px;overflow: hidden;padding: 0;position: absolute;width: 1px;}#sk-container-id-12 div.sk-estimator {font-family: monospace;background-color: #f0f8ff;border: 1px dotted black;border-radius: 0.25em;box-sizing: border-box;margin-bottom: 0.5em;}#sk-container-id-12 div.sk-estimator:hover {background-color: #d4ebff;}#sk-container-id-12 div.sk-parallel-item::after {content: \"\";width: 100%;border-bottom: 1px solid gray;flex-grow: 1;}#sk-container-id-12 div.sk-label:hover label.sk-toggleable__label {background-color: #d4ebff;}#sk-container-id-12 div.sk-serial::before {content: \"\";position: absolute;border-left: 1px solid gray;box-sizing: border-box;top: 0;bottom: 0;left: 50%;z-index: 0;}#sk-container-id-12 div.sk-serial {display: flex;flex-direction: column;align-items: center;background-color: white;padding-right: 0.2em;padding-left: 0.2em;position: relative;}#sk-container-id-12 div.sk-item {position: relative;z-index: 1;}#sk-container-id-12 div.sk-parallel {display: flex;align-items: stretch;justify-content: center;background-color: white;position: relative;}#sk-container-id-12 div.sk-item::before, #sk-container-id-12 div.sk-parallel-item::before {content: \"\";position: absolute;border-left: 1px solid gray;box-sizing: border-box;top: 0;bottom: 0;left: 50%;z-index: -1;}#sk-container-id-12 div.sk-parallel-item {display: flex;flex-direction: column;z-index: 1;position: relative;background-color: white;}#sk-container-id-12 div.sk-parallel-item:first-child::after {align-self: flex-end;width: 50%;}#sk-container-id-12 div.sk-parallel-item:last-child::after {align-self: flex-start;width: 50%;}#sk-container-id-12 div.sk-parallel-item:only-child::after {width: 0;}#sk-container-id-12 div.sk-dashed-wrapped {border: 1px dashed gray;margin: 0 0.4em 0.5em 0.4em;box-sizing: border-box;padding-bottom: 0.4em;background-color: white;}#sk-container-id-12 div.sk-label label {font-family: monospace;font-weight: bold;display: inline-block;line-height: 1.2em;}#sk-container-id-12 div.sk-label-container {text-align: center;}#sk-container-id-12 div.sk-container {/* jupyter's `normalize.less` sets `[hidden] { display: none; }` but bootstrap.min.css set `[hidden] { display: none !important; }` so we also need the `!important` here to be able to override the default hidden behavior on the sphinx rendered scikit-learn.org. See: https://github.com/scikit-learn/scikit-learn/issues/21755 */display: inline-block !important;position: relative;}#sk-container-id-12 div.sk-text-repr-fallback {display: none;}</style><div id=\"sk-container-id-12\" class=\"sk-top-container\"><div class=\"sk-text-repr-fallback\"><pre>GridSearchCV(cv=5,\n",
       "             estimator=Pipeline(steps=[(&#x27;tvec&#x27;, TfidfVectorizer()),\n",
       "                                       (&#x27;knn&#x27;, KNeighborsClassifier())]),\n",
       "             param_grid={&#x27;knn__leaf_size&#x27;: range(10, 80, 5),\n",
       "                         &#x27;knn__metric&#x27;: [&#x27;manhattan&#x27;, &#x27;minkowski&#x27;],\n",
       "                         &#x27;knn__n_neighbors&#x27;: range(1, 20, 2),\n",
       "                         &#x27;knn__weights&#x27;: [&#x27;uniform&#x27;, &#x27;distance&#x27;],\n",
       "                         &#x27;tvec__max_features&#x27;: [1000, 2500, 5000],\n",
       "                         &#x27;tvec__ngram_range&#x27;: [(1, 1), (1, 2)],\n",
       "                         &#x27;tvec__stop_words&#x27;: [&#x27;english&#x27;]})</pre><b>In a Jupyter environment, please rerun this cell to show the HTML representation or trust the notebook. <br />On GitHub, the HTML representation is unable to render, please try loading this page with nbviewer.org.</b></div><div class=\"sk-container\" hidden><div class=\"sk-item sk-dashed-wrapped\"><div class=\"sk-label-container\"><div class=\"sk-label sk-toggleable\"><input class=\"sk-toggleable__control sk-hidden--visually\" id=\"sk-estimator-id-47\" type=\"checkbox\" ><label for=\"sk-estimator-id-47\" class=\"sk-toggleable__label sk-toggleable__label-arrow\">GridSearchCV</label><div class=\"sk-toggleable__content\"><pre>GridSearchCV(cv=5,\n",
       "             estimator=Pipeline(steps=[(&#x27;tvec&#x27;, TfidfVectorizer()),\n",
       "                                       (&#x27;knn&#x27;, KNeighborsClassifier())]),\n",
       "             param_grid={&#x27;knn__leaf_size&#x27;: range(10, 80, 5),\n",
       "                         &#x27;knn__metric&#x27;: [&#x27;manhattan&#x27;, &#x27;minkowski&#x27;],\n",
       "                         &#x27;knn__n_neighbors&#x27;: range(1, 20, 2),\n",
       "                         &#x27;knn__weights&#x27;: [&#x27;uniform&#x27;, &#x27;distance&#x27;],\n",
       "                         &#x27;tvec__max_features&#x27;: [1000, 2500, 5000],\n",
       "                         &#x27;tvec__ngram_range&#x27;: [(1, 1), (1, 2)],\n",
       "                         &#x27;tvec__stop_words&#x27;: [&#x27;english&#x27;]})</pre></div></div></div><div class=\"sk-parallel\"><div class=\"sk-parallel-item\"><div class=\"sk-item\"><div class=\"sk-label-container\"><div class=\"sk-label sk-toggleable\"><input class=\"sk-toggleable__control sk-hidden--visually\" id=\"sk-estimator-id-48\" type=\"checkbox\" ><label for=\"sk-estimator-id-48\" class=\"sk-toggleable__label sk-toggleable__label-arrow\">estimator: Pipeline</label><div class=\"sk-toggleable__content\"><pre>Pipeline(steps=[(&#x27;tvec&#x27;, TfidfVectorizer()), (&#x27;knn&#x27;, KNeighborsClassifier())])</pre></div></div></div><div class=\"sk-serial\"><div class=\"sk-item\"><div class=\"sk-serial\"><div class=\"sk-item\"><div class=\"sk-estimator sk-toggleable\"><input class=\"sk-toggleable__control sk-hidden--visually\" id=\"sk-estimator-id-49\" type=\"checkbox\" ><label for=\"sk-estimator-id-49\" class=\"sk-toggleable__label sk-toggleable__label-arrow\">TfidfVectorizer</label><div class=\"sk-toggleable__content\"><pre>TfidfVectorizer()</pre></div></div></div><div class=\"sk-item\"><div class=\"sk-estimator sk-toggleable\"><input class=\"sk-toggleable__control sk-hidden--visually\" id=\"sk-estimator-id-50\" type=\"checkbox\" ><label for=\"sk-estimator-id-50\" class=\"sk-toggleable__label sk-toggleable__label-arrow\">KNeighborsClassifier</label><div class=\"sk-toggleable__content\"><pre>KNeighborsClassifier()</pre></div></div></div></div></div></div></div></div></div></div></div></div>"
      ],
      "text/plain": [
       "GridSearchCV(cv=5,\n",
       "             estimator=Pipeline(steps=[('tvec', TfidfVectorizer()),\n",
       "                                       ('knn', KNeighborsClassifier())]),\n",
       "             param_grid={'knn__leaf_size': range(10, 80, 5),\n",
       "                         'knn__metric': ['manhattan', 'minkowski'],\n",
       "                         'knn__n_neighbors': range(1, 20, 2),\n",
       "                         'knn__weights': ['uniform', 'distance'],\n",
       "                         'tvec__max_features': [1000, 2500, 5000],\n",
       "                         'tvec__ngram_range': [(1, 1), (1, 2)],\n",
       "                         'tvec__stop_words': ['english']})"
      ]
     },
     "execution_count": 233,
     "metadata": {},
     "output_type": "execute_result"
    }
   ],
   "source": [
    "gs_knn.fit(X_train, y_train)"
   ]
  },
  {
   "cell_type": "code",
   "execution_count": 234,
   "id": "25d73444-9cd4-4ecd-aa33-3ba89d607210",
   "metadata": {},
   "outputs": [
    {
     "data": {
      "text/plain": [
       "{'knn__leaf_size': 10,\n",
       " 'knn__metric': 'minkowski',\n",
       " 'knn__n_neighbors': 5,\n",
       " 'knn__weights': 'distance',\n",
       " 'tvec__max_features': 1000,\n",
       " 'tvec__ngram_range': (1, 2),\n",
       " 'tvec__stop_words': 'english'}"
      ]
     },
     "execution_count": 234,
     "metadata": {},
     "output_type": "execute_result"
    }
   ],
   "source": [
    "gs_knn.best_params_"
   ]
  },
  {
   "cell_type": "code",
   "execution_count": 235,
   "id": "d8b0d3cb-55ad-4f80-bae9-13169f8da986",
   "metadata": {},
   "outputs": [],
   "source": [
    "gs_knn = gs_knn.best_estimator_"
   ]
  },
  {
   "cell_type": "code",
   "execution_count": 236,
   "id": "2db47775-4076-480a-b055-36f1b2554193",
   "metadata": {},
   "outputs": [
    {
     "data": {
      "text/plain": [
       "0.9735224586288416"
      ]
     },
     "execution_count": 236,
     "metadata": {},
     "output_type": "execute_result"
    }
   ],
   "source": [
    "gs_knn.score(X_train, y_train)"
   ]
  },
  {
   "cell_type": "code",
   "execution_count": 237,
   "id": "3558151e-544d-4783-b506-fe6de68a9e7c",
   "metadata": {},
   "outputs": [
    {
     "data": {
      "text/plain": [
       "0.6284454244762955"
      ]
     },
     "execution_count": 237,
     "metadata": {},
     "output_type": "execute_result"
    }
   ],
   "source": [
    "gs_knn.score(X_test, y_test)"
   ]
  },
  {
   "cell_type": "code",
   "execution_count": 238,
   "id": "73f64764-c9f5-48d1-9097-a432026d7656",
   "metadata": {},
   "outputs": [],
   "source": [
    "# Get predictions\n",
    "preds = gs_knn.predict(X_test)\n",
    "\n",
    "# Save confusion matrix values\n",
    "tn, fp, fn, tp = confusion_matrix(y_test, preds).ravel()"
   ]
  },
  {
   "cell_type": "code",
   "execution_count": 243,
   "id": "a0ed0e33-58e0-4dad-9135-a907dad7e576",
   "metadata": {},
   "outputs": [
    {
     "name": "stderr",
     "output_type": "stream",
     "text": [
      "/usr/local/Caskroom/miniconda/base/envs/dsi-sg/lib/python3.9/site-packages/sklearn/utils/deprecation.py:87: FutureWarning: Function plot_confusion_matrix is deprecated; Function `plot_confusion_matrix` is deprecated in 1.0 and will be removed in 1.2. Use one of the class methods: ConfusionMatrixDisplay.from_predictions or ConfusionMatrixDisplay.from_estimator.\n",
      "  warnings.warn(msg, category=FutureWarning)\n"
     ]
    },
    {
     "data": {
      "image/png": "[encoded data removed]",
      "text/plain": [
       "<Figure size 640x480 with 2 Axes>"
      ]
     },
     "metadata": {},
     "output_type": "display_data"
    }
   ],
   "source": [
    "# View confusion matrix\n",
    "plot_confusion_matrix(gs_knn, X_test, y_test, cmap='Blues', values_format='d');"
   ]
  },
  {
   "cell_type": "code",
   "execution_count": 245,
   "id": "4b6c18bd-8018-4e42-bc02-a54a3a6ad354",
   "metadata": {},
   "outputs": [
    {
     "data": {
      "text/plain": [
       "1    1062\n",
       "0    1053\n",
       "Name: category, dtype: int64"
      ]
     },
     "execution_count": 245,
     "metadata": {},
     "output_type": "execute_result"
    }
   ],
   "source": [
    "# first, find out if y_train and y_test has imbalanced data\n",
    "y_train.value_counts()"
   ]
  },
  {
   "cell_type": "code",
   "execution_count": 246,
   "id": "a0d8ccfd-f72c-4281-8804-bfa07c5b9357",
   "metadata": {},
   "outputs": [
    {
     "data": {
      "text/plain": [
       "1    456\n",
       "0    451\n",
       "Name: category, dtype: int64"
      ]
     },
     "execution_count": 246,
     "metadata": {},
     "output_type": "execute_result"
    }
   ],
   "source": [
    "# see if there is an imbalance y_test values\n",
    "y_test.value_counts()"
   ]
  },
  {
   "cell_type": "code",
   "execution_count": 247,
   "id": "7a8302e9-1c18-4e4f-8aac-50de53a456bf",
   "metadata": {
    "collapsed": true,
    "jupyter": {
     "outputs_hidden": true
    },
    "tags": []
   },
   "outputs": [
    {
     "data": {
      "text/plain": [
       "[10,\n",
       " 11,\n",
       " 13,\n",
       " 14,\n",
       " 17,\n",
       " 18,\n",
       " 19,\n",
       " 20,\n",
       " 27,\n",
       " 31,\n",
       " 35,\n",
       " 37,\n",
       " 46,\n",
       " 47,\n",
       " 53,\n",
       " 56,\n",
       " 58,\n",
       " 60,\n",
       " 62,\n",
       " 63,\n",
       " 66,\n",
       " 80,\n",
       " 92,\n",
       " 100,\n",
       " 101,\n",
       " 102,\n",
       " 107,\n",
       " 114,\n",
       " 115,\n",
       " 119,\n",
       " 122,\n",
       " 125,\n",
       " 138,\n",
       " 139,\n",
       " 141,\n",
       " 148,\n",
       " 152,\n",
       " 153,\n",
       " 158,\n",
       " 160,\n",
       " 161,\n",
       " 163,\n",
       " 164,\n",
       " 168,\n",
       " 170,\n",
       " 171,\n",
       " 174,\n",
       " 190,\n",
       " 191,\n",
       " 194,\n",
       " 198,\n",
       " 204,\n",
       " 211,\n",
       " 213,\n",
       " 216,\n",
       " 220,\n",
       " 224,\n",
       " 234,\n",
       " 238,\n",
       " 239,\n",
       " 249,\n",
       " 264,\n",
       " 270,\n",
       " 271,\n",
       " 272,\n",
       " 275,\n",
       " 281,\n",
       " 283,\n",
       " 284,\n",
       " 288,\n",
       " 290,\n",
       " 295,\n",
       " 296,\n",
       " 298,\n",
       " 299,\n",
       " 306,\n",
       " 313,\n",
       " 317,\n",
       " 318,\n",
       " 320,\n",
       " 322,\n",
       " 323,\n",
       " 324,\n",
       " 325,\n",
       " 328,\n",
       " 330,\n",
       " 339,\n",
       " 341,\n",
       " 345,\n",
       " 356,\n",
       " 358,\n",
       " 369,\n",
       " 372,\n",
       " 377,\n",
       " 381,\n",
       " 387,\n",
       " 388,\n",
       " 391,\n",
       " 392,\n",
       " 393,\n",
       " 403,\n",
       " 406,\n",
       " 407,\n",
       " 412,\n",
       " 416,\n",
       " 417,\n",
       " 419,\n",
       " 421,\n",
       " 424,\n",
       " 429,\n",
       " 430,\n",
       " 433,\n",
       " 434,\n",
       " 436,\n",
       " 441,\n",
       " 442,\n",
       " 443,\n",
       " 447,\n",
       " 449,\n",
       " 455,\n",
       " 456,\n",
       " 463,\n",
       " 465,\n",
       " 470,\n",
       " 474,\n",
       " 478,\n",
       " 479,\n",
       " 484,\n",
       " 485,\n",
       " 492,\n",
       " 493,\n",
       " 496,\n",
       " 500,\n",
       " 507,\n",
       " 508,\n",
       " 511,\n",
       " 524,\n",
       " 525,\n",
       " 526,\n",
       " 531,\n",
       " 534,\n",
       " 536,\n",
       " 546,\n",
       " 548,\n",
       " 550,\n",
       " 555,\n",
       " 560,\n",
       " 570,\n",
       " 581,\n",
       " 582,\n",
       " 589,\n",
       " 592,\n",
       " 593,\n",
       " 598,\n",
       " 604,\n",
       " 605,\n",
       " 607,\n",
       " 612,\n",
       " 621,\n",
       " 622,\n",
       " 638,\n",
       " 644,\n",
       " 649,\n",
       " 651,\n",
       " 652,\n",
       " 654,\n",
       " 658,\n",
       " 661,\n",
       " 672,\n",
       " 680,\n",
       " 687,\n",
       " 689,\n",
       " 690,\n",
       " 710,\n",
       " 711,\n",
       " 715,\n",
       " 718,\n",
       " 722,\n",
       " 731,\n",
       " 744,\n",
       " 745,\n",
       " 748,\n",
       " 755,\n",
       " 759,\n",
       " 760,\n",
       " 770,\n",
       " 773,\n",
       " 788,\n",
       " 789,\n",
       " 791,\n",
       " 796,\n",
       " 798,\n",
       " 801,\n",
       " 803,\n",
       " 805,\n",
       " 811,\n",
       " 813,\n",
       " 825,\n",
       " 827,\n",
       " 828,\n",
       " 830,\n",
       " 839,\n",
       " 842,\n",
       " 849,\n",
       " 850,\n",
       " 855,\n",
       " 857,\n",
       " 862,\n",
       " 865,\n",
       " 867,\n",
       " 873,\n",
       " 874,\n",
       " 892,\n",
       " 894,\n",
       " 895,\n",
       " 897,\n",
       " 903]"
      ]
     },
     "execution_count": 247,
     "metadata": {},
     "output_type": "execute_result"
    }
   ],
   "source": [
    "fn_rows"
   ]
  },
  {
   "cell_type": "code",
   "execution_count": 248,
   "id": "348a6175-e955-400a-a982-8fc10d744c93",
   "metadata": {},
   "outputs": [
    {
     "data": {
      "text/plain": [
       "(907,)"
      ]
     },
     "execution_count": 248,
     "metadata": {},
     "output_type": "execute_result"
    }
   ],
   "source": [
    "X_test.shape"
   ]
  },
  {
   "cell_type": "code",
   "execution_count": 249,
   "id": "21cdc178-d25c-46b7-8412-cb4540eec13a",
   "metadata": {},
   "outputs": [
    {
     "data": {
      "text/plain": [
       "(907,)"
      ]
     },
     "execution_count": 249,
     "metadata": {},
     "output_type": "execute_result"
    }
   ],
   "source": [
    "preds.shape"
   ]
  },
  {
   "cell_type": "code",
   "execution_count": 250,
   "id": "f7853b2c-0d42-499d-8ab4-e6004657146d",
   "metadata": {},
   "outputs": [
    {
     "data": {
      "text/plain": [
       "(907,)"
      ]
     },
     "execution_count": 250,
     "metadata": {},
     "output_type": "execute_result"
    }
   ],
   "source": [
    "y_test.shape"
   ]
  },
  {
   "cell_type": "code",
   "execution_count": 251,
   "id": "18f002f5-6eac-4ffd-9e2b-fdc38afec9bc",
   "metadata": {},
   "outputs": [
    {
     "name": "stdout",
     "output_type": "stream",
     "text": [
      "Specificity for KNN: 0.7339246119733924\n",
      "Sensitivity for KNN: 0.5241228070175439\n"
     ]
    }
   ],
   "source": [
    "spec = tn / (tn + fp)\n",
    "print('Specificity for KNN:', spec)\n",
    "\n",
    "sens = tp / (fn + tp)\n",
    "print('Sensitivity for KNN:', sens)"
   ]
  },
  {
   "cell_type": "code",
   "execution_count": 252,
   "id": "d73b2d3e-9fe4-4f66-9bbf-f5280daaecba",
   "metadata": {},
   "outputs": [
    {
     "data": {
      "text/plain": [
       "0.6284454244762955"
      ]
     },
     "execution_count": 252,
     "metadata": {},
     "output_type": "execute_result"
    }
   ],
   "source": [
    "accuracy_score(y_test, preds)"
   ]
  },
  {
   "cell_type": "code",
   "execution_count": 253,
   "id": "a821304e-590b-4e60-9b95-f4ed6adadb11",
   "metadata": {},
   "outputs": [
    {
     "name": "stdout",
     "output_type": "stream",
     "text": [
      "Precision for KNN :  0.6657381615598886\n",
      "Recall for KNN :  0.5241228070175439\n",
      "F1 score for KNN :  0.5865030674846626\n"
     ]
    }
   ],
   "source": [
    "print('Precision for KNN : ', precision_score(y_test, preds))\n",
    "print('Recall for KNN : ', recall_score(y_test, preds))\n",
    "print('F1 score for KNN : ', f1_score(y_test, preds))"
   ]
  },
  {
   "cell_type": "code",
   "execution_count": 254,
   "id": "1ad329ca-387d-4417-900b-3d3bd51f337b",
   "metadata": {},
   "outputs": [
    {
     "name": "stdout",
     "output_type": "stream",
     "text": [
      "ROC-AUC score for KNN is:  0.7136115649434007\n"
     ]
    }
   ],
   "source": [
    "gs_knn_roc_auc = roc_auc_score(y_test, gs_knn.predict_proba(X_test)[:,1])\n",
    "print('ROC-AUC score for KNN is: ', gs_knn_roc_auc)"
   ]
  },
  {
   "cell_type": "markdown",
   "id": "63659788-7642-411c-bd29-ef87f1035ee9",
   "metadata": {},
   "source": [
    "**Insights**\n",
    "1. Advantages:\n",
    "    * it can handle nonlinear relationships between the variables\n",
    "    * it has a simple concept and easy to be explained to the business stakeholders\n",
    "2. Disadvantages:\n",
    "    * it is a very computationally expensive model. The number of leaves will affect the speed of the construction and query, as well as the memory required to store the tree. \n",
    "    * it does not perform well with data points that are very spread out.\n",
    "    * It is also sensitive to outliers. Given that Reddit posts may contain ads in between posts, the corpus will contains words that are not very related to either coffee or tea.\n",
    "3. Why KNN fares so badly:\n",
    "    * KNN cannot find a clear decision boundary when the classes are not well-separated in the feature space. In this case, some of the words here are not exactly unique to each other\n",
    "    * also, it suffers from the curse of dimensionality, where the performance of the algorithm degrades as the number of features increases\n",
    "    * it is also highly sensitive to the distance metric"
   ]
  },
  {
   "cell_type": "markdown",
   "id": "3def8290-70d4-434d-95e1-b106f64fb0ca",
   "metadata": {
    "tags": []
   },
   "source": [
    "## 3.5 Random Forest"
   ]
  },
  {
   "cell_type": "code",
   "execution_count": 255,
   "id": "5efe4a6c-d08c-4737-90f5-76b6ffb1dda1",
   "metadata": {
    "tags": []
   },
   "outputs": [],
   "source": [
    "pipe_rf = Pipeline([\n",
    "    ('tvec', TfidfVectorizer()),\n",
    "    ('rf', RandomForestClassifier(random_state = 42))\n",
    "])"
   ]
  },
  {
   "cell_type": "code",
   "execution_count": 256,
   "id": "0333cee6-53d4-4055-82c5-90d0b0bd4ba2",
   "metadata": {},
   "outputs": [],
   "source": [
    "param_rf_grid = {\n",
    "    'tvec__max_features': [1000, 2500, 5000], # estimate the amount of words to be included\n",
    "    \"tvec__stop_words\":   ['english'],\n",
    "    'tvec__ngram_range': [(1,1), (1,2)],\n",
    "    'rf__n_estimators': [100, 150], \n",
    "    'rf__max_depth': [4, 6],\n",
    "    'rf__criterion': ['gini', 'entropy', 'log_loss']\n",
    "}"
   ]
  },
  {
   "cell_type": "code",
   "execution_count": 257,
   "id": "458e6440-0978-4887-afd7-d831bd272ce1",
   "metadata": {},
   "outputs": [],
   "source": [
    "gs_rf = GridSearchCV(pipe_rf, \n",
    "                  param_grid=param_rf_grid, \n",
    "                  cv=5)"
   ]
  },
  {
   "cell_type": "code",
   "execution_count": 258,
   "id": "9f1ad8b9-7f9a-4621-87ae-9a9dd60ccb11",
   "metadata": {},
   "outputs": [
    {
     "data": {
      "text/html": [
       "<style>#sk-container-id-13 {color: black;background-color: white;}#sk-container-id-13 pre{padding: 0;}#sk-container-id-13 div.sk-toggleable {background-color: white;}#sk-container-id-13 label.sk-toggleable__label {cursor: pointer;display: block;width: 100%;margin-bottom: 0;padding: 0.3em;box-sizing: border-box;text-align: center;}#sk-container-id-13 label.sk-toggleable__label-arrow:before {content: \"▸\";float: left;margin-right: 0.25em;color: #696969;}#sk-container-id-13 label.sk-toggleable__label-arrow:hover:before {color: black;}#sk-container-id-13 div.sk-estimator:hover label.sk-toggleable__label-arrow:before {color: black;}#sk-container-id-13 div.sk-toggleable__content {max-height: 0;max-width: 0;overflow: hidden;text-align: left;background-color: #f0f8ff;}#sk-container-id-13 div.sk-toggleable__content pre {margin: 0.2em;color: black;border-radius: 0.25em;background-color: #f0f8ff;}#sk-container-id-13 input.sk-toggleable__control:checked~div.sk-toggleable__content {max-height: 200px;max-width: 100%;overflow: auto;}#sk-container-id-13 input.sk-toggleable__control:checked~label.sk-toggleable__label-arrow:before {content: \"▾\";}#sk-container-id-13 div.sk-estimator input.sk-toggleable__control:checked~label.sk-toggleable__label {background-color: #d4ebff;}#sk-container-id-13 div.sk-label input.sk-toggleable__control:checked~label.sk-toggleable__label {background-color: #d4ebff;}#sk-container-id-13 input.sk-hidden--visually {border: 0;clip: rect(1px 1px 1px 1px);clip: rect(1px, 1px, 1px, 1px);height: 1px;margin: -1px;overflow: hidden;padding: 0;position: absolute;width: 1px;}#sk-container-id-13 div.sk-estimator {font-family: monospace;background-color: #f0f8ff;border: 1px dotted black;border-radius: 0.25em;box-sizing: border-box;margin-bottom: 0.5em;}#sk-container-id-13 div.sk-estimator:hover {background-color: #d4ebff;}#sk-container-id-13 div.sk-parallel-item::after {content: \"\";width: 100%;border-bottom: 1px solid gray;flex-grow: 1;}#sk-container-id-13 div.sk-label:hover label.sk-toggleable__label {background-color: #d4ebff;}#sk-container-id-13 div.sk-serial::before {content: \"\";position: absolute;border-left: 1px solid gray;box-sizing: border-box;top: 0;bottom: 0;left: 50%;z-index: 0;}#sk-container-id-13 div.sk-serial {display: flex;flex-direction: column;align-items: center;background-color: white;padding-right: 0.2em;padding-left: 0.2em;position: relative;}#sk-container-id-13 div.sk-item {position: relative;z-index: 1;}#sk-container-id-13 div.sk-parallel {display: flex;align-items: stretch;justify-content: center;background-color: white;position: relative;}#sk-container-id-13 div.sk-item::before, #sk-container-id-13 div.sk-parallel-item::before {content: \"\";position: absolute;border-left: 1px solid gray;box-sizing: border-box;top: 0;bottom: 0;left: 50%;z-index: -1;}#sk-container-id-13 div.sk-parallel-item {display: flex;flex-direction: column;z-index: 1;position: relative;background-color: white;}#sk-container-id-13 div.sk-parallel-item:first-child::after {align-self: flex-end;width: 50%;}#sk-container-id-13 div.sk-parallel-item:last-child::after {align-self: flex-start;width: 50%;}#sk-container-id-13 div.sk-parallel-item:only-child::after {width: 0;}#sk-container-id-13 div.sk-dashed-wrapped {border: 1px dashed gray;margin: 0 0.4em 0.5em 0.4em;box-sizing: border-box;padding-bottom: 0.4em;background-color: white;}#sk-container-id-13 div.sk-label label {font-family: monospace;font-weight: bold;display: inline-block;line-height: 1.2em;}#sk-container-id-13 div.sk-label-container {text-align: center;}#sk-container-id-13 div.sk-container {/* jupyter's `normalize.less` sets `[hidden] { display: none; }` but bootstrap.min.css set `[hidden] { display: none !important; }` so we also need the `!important` here to be able to override the default hidden behavior on the sphinx rendered scikit-learn.org. See: https://github.com/scikit-learn/scikit-learn/issues/21755 */display: inline-block !important;position: relative;}#sk-container-id-13 div.sk-text-repr-fallback {display: none;}</style><div id=\"sk-container-id-13\" class=\"sk-top-container\"><div class=\"sk-text-repr-fallback\"><pre>GridSearchCV(cv=5,\n",
       "             estimator=Pipeline(steps=[(&#x27;tvec&#x27;, TfidfVectorizer()),\n",
       "                                       (&#x27;rf&#x27;,\n",
       "                                        RandomForestClassifier(random_state=42))]),\n",
       "             param_grid={&#x27;rf__criterion&#x27;: [&#x27;gini&#x27;, &#x27;entropy&#x27;, &#x27;log_loss&#x27;],\n",
       "                         &#x27;rf__max_depth&#x27;: [4, 6],\n",
       "                         &#x27;rf__n_estimators&#x27;: [100, 150],\n",
       "                         &#x27;tvec__max_features&#x27;: [1000, 2500, 5000],\n",
       "                         &#x27;tvec__ngram_range&#x27;: [(1, 1), (1, 2)],\n",
       "                         &#x27;tvec__stop_words&#x27;: [&#x27;english&#x27;]})</pre><b>In a Jupyter environment, please rerun this cell to show the HTML representation or trust the notebook. <br />On GitHub, the HTML representation is unable to render, please try loading this page with nbviewer.org.</b></div><div class=\"sk-container\" hidden><div class=\"sk-item sk-dashed-wrapped\"><div class=\"sk-label-container\"><div class=\"sk-label sk-toggleable\"><input class=\"sk-toggleable__control sk-hidden--visually\" id=\"sk-estimator-id-51\" type=\"checkbox\" ><label for=\"sk-estimator-id-51\" class=\"sk-toggleable__label sk-toggleable__label-arrow\">GridSearchCV</label><div class=\"sk-toggleable__content\"><pre>GridSearchCV(cv=5,\n",
       "             estimator=Pipeline(steps=[(&#x27;tvec&#x27;, TfidfVectorizer()),\n",
       "                                       (&#x27;rf&#x27;,\n",
       "                                        RandomForestClassifier(random_state=42))]),\n",
       "             param_grid={&#x27;rf__criterion&#x27;: [&#x27;gini&#x27;, &#x27;entropy&#x27;, &#x27;log_loss&#x27;],\n",
       "                         &#x27;rf__max_depth&#x27;: [4, 6],\n",
       "                         &#x27;rf__n_estimators&#x27;: [100, 150],\n",
       "                         &#x27;tvec__max_features&#x27;: [1000, 2500, 5000],\n",
       "                         &#x27;tvec__ngram_range&#x27;: [(1, 1), (1, 2)],\n",
       "                         &#x27;tvec__stop_words&#x27;: [&#x27;english&#x27;]})</pre></div></div></div><div class=\"sk-parallel\"><div class=\"sk-parallel-item\"><div class=\"sk-item\"><div class=\"sk-label-container\"><div class=\"sk-label sk-toggleable\"><input class=\"sk-toggleable__control sk-hidden--visually\" id=\"sk-estimator-id-52\" type=\"checkbox\" ><label for=\"sk-estimator-id-52\" class=\"sk-toggleable__label sk-toggleable__label-arrow\">estimator: Pipeline</label><div class=\"sk-toggleable__content\"><pre>Pipeline(steps=[(&#x27;tvec&#x27;, TfidfVectorizer()),\n",
       "                (&#x27;rf&#x27;, RandomForestClassifier(random_state=42))])</pre></div></div></div><div class=\"sk-serial\"><div class=\"sk-item\"><div class=\"sk-serial\"><div class=\"sk-item\"><div class=\"sk-estimator sk-toggleable\"><input class=\"sk-toggleable__control sk-hidden--visually\" id=\"sk-estimator-id-53\" type=\"checkbox\" ><label for=\"sk-estimator-id-53\" class=\"sk-toggleable__label sk-toggleable__label-arrow\">TfidfVectorizer</label><div class=\"sk-toggleable__content\"><pre>TfidfVectorizer()</pre></div></div></div><div class=\"sk-item\"><div class=\"sk-estimator sk-toggleable\"><input class=\"sk-toggleable__control sk-hidden--visually\" id=\"sk-estimator-id-54\" type=\"checkbox\" ><label for=\"sk-estimator-id-54\" class=\"sk-toggleable__label sk-toggleable__label-arrow\">RandomForestClassifier</label><div class=\"sk-toggleable__content\"><pre>RandomForestClassifier(random_state=42)</pre></div></div></div></div></div></div></div></div></div></div></div></div>"
      ],
      "text/plain": [
       "GridSearchCV(cv=5,\n",
       "             estimator=Pipeline(steps=[('tvec', TfidfVectorizer()),\n",
       "                                       ('rf',\n",
       "                                        RandomForestClassifier(random_state=42))]),\n",
       "             param_grid={'rf__criterion': ['gini', 'entropy', 'log_loss'],\n",
       "                         'rf__max_depth': [4, 6],\n",
       "                         'rf__n_estimators': [100, 150],\n",
       "                         'tvec__max_features': [1000, 2500, 5000],\n",
       "                         'tvec__ngram_range': [(1, 1), (1, 2)],\n",
       "                         'tvec__stop_words': ['english']})"
      ]
     },
     "execution_count": 258,
     "metadata": {},
     "output_type": "execute_result"
    }
   ],
   "source": [
    "gs_rf.fit(X_train,y_train)"
   ]
  },
  {
   "cell_type": "code",
   "execution_count": 259,
   "id": "ced7929d-51a0-49b5-a6f6-67438945593e",
   "metadata": {},
   "outputs": [
    {
     "data": {
      "text/plain": [
       "{'rf__criterion': 'entropy',\n",
       " 'rf__max_depth': 4,\n",
       " 'rf__n_estimators': 150,\n",
       " 'tvec__max_features': 2500,\n",
       " 'tvec__ngram_range': (1, 1),\n",
       " 'tvec__stop_words': 'english'}"
      ]
     },
     "execution_count": 259,
     "metadata": {},
     "output_type": "execute_result"
    }
   ],
   "source": [
    "gs_rf.best_params_"
   ]
  },
  {
   "cell_type": "code",
   "execution_count": 260,
   "id": "21a5852f-a09f-496c-827f-cd43f52a0bb2",
   "metadata": {},
   "outputs": [],
   "source": [
    "gs_rf = gs_rf.best_estimator_"
   ]
  },
  {
   "cell_type": "code",
   "execution_count": 261,
   "id": "7a5260d5-e223-424b-8571-bbb6055dca5a",
   "metadata": {},
   "outputs": [
    {
     "data": {
      "text/plain": [
       "0.8765957446808511"
      ]
     },
     "execution_count": 261,
     "metadata": {},
     "output_type": "execute_result"
    }
   ],
   "source": [
    "gs_rf.score(X_train, y_train) #0.87"
   ]
  },
  {
   "cell_type": "code",
   "execution_count": 262,
   "id": "396919d9-61e7-4fb8-8d8d-83590aa76018",
   "metadata": {},
   "outputs": [
    {
     "data": {
      "text/plain": [
       "0.8500551267916208"
      ]
     },
     "execution_count": 262,
     "metadata": {},
     "output_type": "execute_result"
    }
   ],
   "source": [
    "gs_rf.score(X_test, y_test) #0.84"
   ]
  },
  {
   "cell_type": "code",
   "execution_count": 263,
   "id": "fd4e1eec-cb2e-4e11-82a5-70cfdb3c1797",
   "metadata": {},
   "outputs": [],
   "source": [
    "# Get predictions\n",
    "preds = gs_rf.predict(X_test)\n",
    "\n",
    "# Save confusion matrix values\n",
    "tn, fp, fn, tp = confusion_matrix(y_test, preds).ravel()"
   ]
  },
  {
   "cell_type": "code",
   "execution_count": 264,
   "id": "e850395d-152a-43b6-87ef-6cf41662a76a",
   "metadata": {},
   "outputs": [
    {
     "name": "stderr",
     "output_type": "stream",
     "text": [
      "/usr/local/Caskroom/miniconda/base/envs/dsi-sg/lib/python3.9/site-packages/sklearn/utils/deprecation.py:87: FutureWarning: Function plot_confusion_matrix is deprecated; Function `plot_confusion_matrix` is deprecated in 1.0 and will be removed in 1.2. Use one of the class methods: ConfusionMatrixDisplay.from_predictions or ConfusionMatrixDisplay.from_estimator.\n",
      "  warnings.warn(msg, category=FutureWarning)\n"
     ]
    },
    {
     "data": {
      "image/png": "[encoded data removed]",
      "text/plain": [
       "<Figure size 640x480 with 2 Axes>"
      ]
     },
     "metadata": {},
     "output_type": "display_data"
    }
   ],
   "source": [
    "# View confusion matrix\n",
    "plot_confusion_matrix(gs_rf, X_test, y_test, cmap='Blues', values_format='d');"
   ]
  },
  {
   "cell_type": "code",
   "execution_count": 265,
   "id": "fa9effc0-bf16-488e-a915-b9fe102c1a12",
   "metadata": {},
   "outputs": [
    {
     "name": "stdout",
     "output_type": "stream",
     "text": [
      "Specificity for RF: 0.9312638580931264\n",
      "Sensitivity for RF: 0.7697368421052632\n"
     ]
    }
   ],
   "source": [
    "spec = tn / (tn + fp)\n",
    "print('Specificity for RF:', spec)\n",
    "\n",
    "sens = tp / (fn + tp)\n",
    "print('Sensitivity for RF:', sens)"
   ]
  },
  {
   "cell_type": "code",
   "execution_count": 266,
   "id": "bf22038b-db88-470e-adf0-3fcd7ab7a797",
   "metadata": {},
   "outputs": [
    {
     "data": {
      "text/plain": [
       "0.8500551267916208"
      ]
     },
     "execution_count": 266,
     "metadata": {},
     "output_type": "execute_result"
    }
   ],
   "source": [
    "accuracy_score(y_test, preds)"
   ]
  },
  {
   "cell_type": "code",
   "execution_count": 267,
   "id": "e600a765-ce3f-4759-8ee2-cf4934ade565",
   "metadata": {},
   "outputs": [
    {
     "name": "stdout",
     "output_type": "stream",
     "text": [
      "Precision for Random Forest :  0.918848167539267\n",
      "Recall for Random Forest :  0.7697368421052632\n",
      "F1 score for Random Forest :  0.837708830548926\n"
     ]
    }
   ],
   "source": [
    "print('Precision for Random Forest : ', precision_score(y_test, preds))\n",
    "print('Recall for Random Forest : ', recall_score(y_test, preds))\n",
    "print('F1 score for Random Forest : ', f1_score(y_test, preds))"
   ]
  },
  {
   "cell_type": "code",
   "execution_count": 268,
   "id": "66a1b446-b79e-47a0-80f8-9b9dd554877c",
   "metadata": {},
   "outputs": [
    {
     "name": "stdout",
     "output_type": "stream",
     "text": [
      "ROC-AUC score for Random Forest is:  0.94152127825106\n"
     ]
    }
   ],
   "source": [
    "gs_rf_roc_auc = roc_auc_score(y_test, gs_rf.predict_proba(X_test)[:,1])\n",
    "print('ROC-AUC score for Random Forest is: ', gs_rf_roc_auc)"
   ]
  },
  {
   "cell_type": "markdown",
   "id": "b4edf56c-d512-43a1-bbf6-1e4d848d6097",
   "metadata": {},
   "source": [
    "**Observation on the Random Forest:**\n",
    "1. Advantages:\n",
    "    * Random forest allows us to reduce overfitting, as it calculates majority of votes across trees (instead of using immediate distance). This gives a more accurate and stable prediction\n",
    "2. Disadvantages:\n",
    "    * with more trees, it may make the algorithm slower as it is computationally more expensive\n",
    "    * also, it is hard to be interpretable as a single decision tree; hence it is harder to explain the concepts and models to stakeholders"
   ]
  },
  {
   "cell_type": "code",
   "execution_count": null,
   "id": "f0d63452-20cd-4d95-8b8f-c118923f7b52",
   "metadata": {},
   "outputs": [],
   "source": []
  },
  {
   "cell_type": "markdown",
   "id": "ac5a9543-7384-4ec1-afa8-23fa01a3ea0d",
   "metadata": {},
   "source": [
    "## 3.6 SVM"
   ]
  },
  {
   "cell_type": "code",
   "execution_count": 269,
   "id": "0cd344f8-624c-4ade-80b3-1c36d2e7a5c7",
   "metadata": {},
   "outputs": [],
   "source": [
    "pipe_svm = Pipeline([\n",
    "    ('tvec', TfidfVectorizer()),\n",
    "    ('svm', SVC(random_state = 42, probability=True))\n",
    "])"
   ]
  },
  {
   "cell_type": "code",
   "execution_count": 270,
   "id": "38027b97-2c42-43ac-a12c-12fa7e62ce4e",
   "metadata": {},
   "outputs": [],
   "source": [
    "param_svm_grid = {\n",
    "    'tvec__max_features': [1000, 2500, 5000], # estimate the amount of words to be included\n",
    "    \"tvec__stop_words\":   ['english'],\n",
    "    'tvec__ngram_range': [(1,1), (1,2)],\n",
    "    'svm__C': range(1,10), # tradeoffs between smooth decision boundary\n",
    "    'svm__gamma': ['scale', 'auto'],\n",
    "    'svm__kernel': ['rbf', 'poly']\n",
    "}"
   ]
  },
  {
   "cell_type": "code",
   "execution_count": 271,
   "id": "1f48efb6-5c87-43c5-b99a-1176d0653d86",
   "metadata": {},
   "outputs": [],
   "source": [
    "gs_svm = GridSearchCV(pipe_svm, \n",
    "                  param_grid=param_svm_grid, \n",
    "                  cv=5)"
   ]
  },
  {
   "cell_type": "code",
   "execution_count": 272,
   "id": "94e54027-37e0-489a-81fb-52867d664f46",
   "metadata": {},
   "outputs": [
    {
     "data": {
      "text/html": [
       "<style>#sk-container-id-14 {color: black;background-color: white;}#sk-container-id-14 pre{padding: 0;}#sk-container-id-14 div.sk-toggleable {background-color: white;}#sk-container-id-14 label.sk-toggleable__label {cursor: pointer;display: block;width: 100%;margin-bottom: 0;padding: 0.3em;box-sizing: border-box;text-align: center;}#sk-container-id-14 label.sk-toggleable__label-arrow:before {content: \"▸\";float: left;margin-right: 0.25em;color: #696969;}#sk-container-id-14 label.sk-toggleable__label-arrow:hover:before {color: black;}#sk-container-id-14 div.sk-estimator:hover label.sk-toggleable__label-arrow:before {color: black;}#sk-container-id-14 div.sk-toggleable__content {max-height: 0;max-width: 0;overflow: hidden;text-align: left;background-color: #f0f8ff;}#sk-container-id-14 div.sk-toggleable__content pre {margin: 0.2em;color: black;border-radius: 0.25em;background-color: #f0f8ff;}#sk-container-id-14 input.sk-toggleable__control:checked~div.sk-toggleable__content {max-height: 200px;max-width: 100%;overflow: auto;}#sk-container-id-14 input.sk-toggleable__control:checked~label.sk-toggleable__label-arrow:before {content: \"▾\";}#sk-container-id-14 div.sk-estimator input.sk-toggleable__control:checked~label.sk-toggleable__label {background-color: #d4ebff;}#sk-container-id-14 div.sk-label input.sk-toggleable__control:checked~label.sk-toggleable__label {background-color: #d4ebff;}#sk-container-id-14 input.sk-hidden--visually {border: 0;clip: rect(1px 1px 1px 1px);clip: rect(1px, 1px, 1px, 1px);height: 1px;margin: -1px;overflow: hidden;padding: 0;position: absolute;width: 1px;}#sk-container-id-14 div.sk-estimator {font-family: monospace;background-color: #f0f8ff;border: 1px dotted black;border-radius: 0.25em;box-sizing: border-box;margin-bottom: 0.5em;}#sk-container-id-14 div.sk-estimator:hover {background-color: #d4ebff;}#sk-container-id-14 div.sk-parallel-item::after {content: \"\";width: 100%;border-bottom: 1px solid gray;flex-grow: 1;}#sk-container-id-14 div.sk-label:hover label.sk-toggleable__label {background-color: #d4ebff;}#sk-container-id-14 div.sk-serial::before {content: \"\";position: absolute;border-left: 1px solid gray;box-sizing: border-box;top: 0;bottom: 0;left: 50%;z-index: 0;}#sk-container-id-14 div.sk-serial {display: flex;flex-direction: column;align-items: center;background-color: white;padding-right: 0.2em;padding-left: 0.2em;position: relative;}#sk-container-id-14 div.sk-item {position: relative;z-index: 1;}#sk-container-id-14 div.sk-parallel {display: flex;align-items: stretch;justify-content: center;background-color: white;position: relative;}#sk-container-id-14 div.sk-item::before, #sk-container-id-14 div.sk-parallel-item::before {content: \"\";position: absolute;border-left: 1px solid gray;box-sizing: border-box;top: 0;bottom: 0;left: 50%;z-index: -1;}#sk-container-id-14 div.sk-parallel-item {display: flex;flex-direction: column;z-index: 1;position: relative;background-color: white;}#sk-container-id-14 div.sk-parallel-item:first-child::after {align-self: flex-end;width: 50%;}#sk-container-id-14 div.sk-parallel-item:last-child::after {align-self: flex-start;width: 50%;}#sk-container-id-14 div.sk-parallel-item:only-child::after {width: 0;}#sk-container-id-14 div.sk-dashed-wrapped {border: 1px dashed gray;margin: 0 0.4em 0.5em 0.4em;box-sizing: border-box;padding-bottom: 0.4em;background-color: white;}#sk-container-id-14 div.sk-label label {font-family: monospace;font-weight: bold;display: inline-block;line-height: 1.2em;}#sk-container-id-14 div.sk-label-container {text-align: center;}#sk-container-id-14 div.sk-container {/* jupyter's `normalize.less` sets `[hidden] { display: none; }` but bootstrap.min.css set `[hidden] { display: none !important; }` so we also need the `!important` here to be able to override the default hidden behavior on the sphinx rendered scikit-learn.org. See: https://github.com/scikit-learn/scikit-learn/issues/21755 */display: inline-block !important;position: relative;}#sk-container-id-14 div.sk-text-repr-fallback {display: none;}</style><div id=\"sk-container-id-14\" class=\"sk-top-container\"><div class=\"sk-text-repr-fallback\"><pre>GridSearchCV(cv=5,\n",
       "             estimator=Pipeline(steps=[(&#x27;tvec&#x27;, TfidfVectorizer()),\n",
       "                                       (&#x27;svm&#x27;,\n",
       "                                        SVC(probability=True,\n",
       "                                            random_state=42))]),\n",
       "             param_grid={&#x27;svm__C&#x27;: range(1, 10),\n",
       "                         &#x27;svm__gamma&#x27;: [&#x27;scale&#x27;, &#x27;auto&#x27;],\n",
       "                         &#x27;svm__kernel&#x27;: [&#x27;rbf&#x27;, &#x27;poly&#x27;],\n",
       "                         &#x27;tvec__max_features&#x27;: [1000, 2500, 5000],\n",
       "                         &#x27;tvec__ngram_range&#x27;: [(1, 1), (1, 2)],\n",
       "                         &#x27;tvec__stop_words&#x27;: [&#x27;english&#x27;]})</pre><b>In a Jupyter environment, please rerun this cell to show the HTML representation or trust the notebook. <br />On GitHub, the HTML representation is unable to render, please try loading this page with nbviewer.org.</b></div><div class=\"sk-container\" hidden><div class=\"sk-item sk-dashed-wrapped\"><div class=\"sk-label-container\"><div class=\"sk-label sk-toggleable\"><input class=\"sk-toggleable__control sk-hidden--visually\" id=\"sk-estimator-id-55\" type=\"checkbox\" ><label for=\"sk-estimator-id-55\" class=\"sk-toggleable__label sk-toggleable__label-arrow\">GridSearchCV</label><div class=\"sk-toggleable__content\"><pre>GridSearchCV(cv=5,\n",
       "             estimator=Pipeline(steps=[(&#x27;tvec&#x27;, TfidfVectorizer()),\n",
       "                                       (&#x27;svm&#x27;,\n",
       "                                        SVC(probability=True,\n",
       "                                            random_state=42))]),\n",
       "             param_grid={&#x27;svm__C&#x27;: range(1, 10),\n",
       "                         &#x27;svm__gamma&#x27;: [&#x27;scale&#x27;, &#x27;auto&#x27;],\n",
       "                         &#x27;svm__kernel&#x27;: [&#x27;rbf&#x27;, &#x27;poly&#x27;],\n",
       "                         &#x27;tvec__max_features&#x27;: [1000, 2500, 5000],\n",
       "                         &#x27;tvec__ngram_range&#x27;: [(1, 1), (1, 2)],\n",
       "                         &#x27;tvec__stop_words&#x27;: [&#x27;english&#x27;]})</pre></div></div></div><div class=\"sk-parallel\"><div class=\"sk-parallel-item\"><div class=\"sk-item\"><div class=\"sk-label-container\"><div class=\"sk-label sk-toggleable\"><input class=\"sk-toggleable__control sk-hidden--visually\" id=\"sk-estimator-id-56\" type=\"checkbox\" ><label for=\"sk-estimator-id-56\" class=\"sk-toggleable__label sk-toggleable__label-arrow\">estimator: Pipeline</label><div class=\"sk-toggleable__content\"><pre>Pipeline(steps=[(&#x27;tvec&#x27;, TfidfVectorizer()),\n",
       "                (&#x27;svm&#x27;, SVC(probability=True, random_state=42))])</pre></div></div></div><div class=\"sk-serial\"><div class=\"sk-item\"><div class=\"sk-serial\"><div class=\"sk-item\"><div class=\"sk-estimator sk-toggleable\"><input class=\"sk-toggleable__control sk-hidden--visually\" id=\"sk-estimator-id-57\" type=\"checkbox\" ><label for=\"sk-estimator-id-57\" class=\"sk-toggleable__label sk-toggleable__label-arrow\">TfidfVectorizer</label><div class=\"sk-toggleable__content\"><pre>TfidfVectorizer()</pre></div></div></div><div class=\"sk-item\"><div class=\"sk-estimator sk-toggleable\"><input class=\"sk-toggleable__control sk-hidden--visually\" id=\"sk-estimator-id-58\" type=\"checkbox\" ><label for=\"sk-estimator-id-58\" class=\"sk-toggleable__label sk-toggleable__label-arrow\">SVC</label><div class=\"sk-toggleable__content\"><pre>SVC(probability=True, random_state=42)</pre></div></div></div></div></div></div></div></div></div></div></div></div>"
      ],
      "text/plain": [
       "GridSearchCV(cv=5,\n",
       "             estimator=Pipeline(steps=[('tvec', TfidfVectorizer()),\n",
       "                                       ('svm',\n",
       "                                        SVC(probability=True,\n",
       "                                            random_state=42))]),\n",
       "             param_grid={'svm__C': range(1, 10),\n",
       "                         'svm__gamma': ['scale', 'auto'],\n",
       "                         'svm__kernel': ['rbf', 'poly'],\n",
       "                         'tvec__max_features': [1000, 2500, 5000],\n",
       "                         'tvec__ngram_range': [(1, 1), (1, 2)],\n",
       "                         'tvec__stop_words': ['english']})"
      ]
     },
     "execution_count": 272,
     "metadata": {},
     "output_type": "execute_result"
    }
   ],
   "source": [
    "gs_svm.fit(X_train,y_train)"
   ]
  },
  {
   "cell_type": "code",
   "execution_count": 273,
   "id": "e6d3b5f5-cb9e-451f-9548-de64fa284b95",
   "metadata": {},
   "outputs": [],
   "source": [
    "gs_svm = gs_svm.best_estimator_"
   ]
  },
  {
   "cell_type": "code",
   "execution_count": 274,
   "id": "c5d38c75-314c-4ed8-9f53-9880ff29c8cd",
   "metadata": {},
   "outputs": [
    {
     "data": {
      "text/plain": [
       "0.983451536643026"
      ]
     },
     "execution_count": 274,
     "metadata": {},
     "output_type": "execute_result"
    }
   ],
   "source": [
    "gs_svm.score(X_train, y_train)"
   ]
  },
  {
   "cell_type": "code",
   "execution_count": 275,
   "id": "63ed100a-2a09-4807-8262-6d7f1c1b6d84",
   "metadata": {},
   "outputs": [
    {
     "data": {
      "text/plain": [
       "0.8919514884233738"
      ]
     },
     "execution_count": 275,
     "metadata": {},
     "output_type": "execute_result"
    }
   ],
   "source": [
    "gs_svm.score(X_test, y_test) "
   ]
  },
  {
   "cell_type": "code",
   "execution_count": 276,
   "id": "965287ba-b028-4661-9dd4-88723dabd7c6",
   "metadata": {},
   "outputs": [],
   "source": [
    "# Get predictions\n",
    "preds = gs_svm.predict(X_test)\n",
    "\n",
    "# Save confusion matrix values\n",
    "tn, fp, fn, tp = confusion_matrix(y_test, preds).ravel()"
   ]
  },
  {
   "cell_type": "code",
   "execution_count": 277,
   "id": "7c3f2eb3-9975-440a-ae0f-3786248ef56b",
   "metadata": {},
   "outputs": [
    {
     "name": "stderr",
     "output_type": "stream",
     "text": [
      "/usr/local/Caskroom/miniconda/base/envs/dsi-sg/lib/python3.9/site-packages/sklearn/utils/deprecation.py:87: FutureWarning: Function plot_confusion_matrix is deprecated; Function `plot_confusion_matrix` is deprecated in 1.0 and will be removed in 1.2. Use one of the class methods: ConfusionMatrixDisplay.from_predictions or ConfusionMatrixDisplay.from_estimator.\n",
      "  warnings.warn(msg, category=FutureWarning)\n"
     ]
    },
    {
     "data": {
      "image/png": "[encoded data removed]",
      "text/plain": [
       "<Figure size 640x480 with 2 Axes>"
      ]
     },
     "metadata": {},
     "output_type": "display_data"
    }
   ],
   "source": [
    "# View confusion matrix\n",
    "plot_confusion_matrix(gs_svm, X_test, y_test, cmap='Blues', values_format='d');"
   ]
  },
  {
   "cell_type": "code",
   "execution_count": 278,
   "id": "12759fb1-6e8a-4e80-8762-24d2f0ce3010",
   "metadata": {},
   "outputs": [
    {
     "name": "stdout",
     "output_type": "stream",
     "text": [
      "Specificity for SVM: 0.8802660753880266\n",
      "Sensitivity for SVM: 0.9035087719298246\n"
     ]
    }
   ],
   "source": [
    "spec = tn / (tn + fp)\n",
    "print('Specificity for SVM:', spec)\n",
    "\n",
    "sens = tp / (fn + tp)\n",
    "print('Sensitivity for SVM:', sens)"
   ]
  },
  {
   "cell_type": "code",
   "execution_count": 279,
   "id": "255194ab-036c-40d6-96e8-cf72a28b4e66",
   "metadata": {},
   "outputs": [
    {
     "data": {
      "text/plain": [
       "0.8919514884233738"
      ]
     },
     "execution_count": 279,
     "metadata": {},
     "output_type": "execute_result"
    }
   ],
   "source": [
    "accuracy_score(y_test, preds)"
   ]
  },
  {
   "cell_type": "code",
   "execution_count": 280,
   "id": "ab7b782c-9253-44c4-89b9-40485556cc01",
   "metadata": {},
   "outputs": [
    {
     "name": "stdout",
     "output_type": "stream",
     "text": [
      "Precision for SVM :  0.8841201716738197\n",
      "Recall for SVM :  0.9035087719298246\n",
      "F1 score for SVM :  0.8937093275488069\n"
     ]
    }
   ],
   "source": [
    "print('Precision for SVM : ', precision_score(y_test, preds))\n",
    "print('Recall for SVM : ', recall_score(y_test, preds))\n",
    "print('F1 score for SVM : ', f1_score(y_test, preds))"
   ]
  },
  {
   "cell_type": "code",
   "execution_count": 281,
   "id": "d6e12317-5b9e-4f4a-962b-91d5d03d5004",
   "metadata": {},
   "outputs": [
    {
     "name": "stdout",
     "output_type": "stream",
     "text": [
      "ROC-AUC score for SVM is:  0.9395957326798147\n"
     ]
    }
   ],
   "source": [
    "gs_svm_roc_auc = roc_auc_score(y_test, gs_svm.predict_proba(X_test)[:,1])\n",
    "print('ROC-AUC score for SVM is: ', gs_svm_roc_auc)"
   ]
  },
  {
   "cell_type": "markdown",
   "id": "333339ba-0e9b-4d47-a753-1fc3cb066a14",
   "metadata": {},
   "source": [
    "**Observation**: \n",
    "1. Advantages:\n",
    "    * SVM can classify unseen data well. And it is evident because it has one of the highest test score among all the models\n",
    "    * also, it can identify non-linear plane well, which suits NLP use cases well.\n",
    "2. Disadvantages\n",
    "    * However, it is also very prone to overfitting. This is shown on the high accuracy with validation sets.\n",
    "    * Also, it is very memory intensive, harder to tune as we need to pick the right kernel and parameters, and don't scale well to larger datasets"
   ]
  },
  {
   "cell_type": "code",
   "execution_count": null,
   "id": "916eae24-495a-432d-b3b3-895adae515bb",
   "metadata": {},
   "outputs": [],
   "source": []
  },
  {
   "cell_type": "markdown",
   "id": "85c59d64-3422-4a0c-bfcc-23fa680a7ec1",
   "metadata": {},
   "source": [
    "## 3.7 AdaBoost"
   ]
  },
  {
   "cell_type": "code",
   "execution_count": 282,
   "id": "0667dc0f-e0b3-4d77-ba54-cdb036d7278e",
   "metadata": {},
   "outputs": [],
   "source": [
    "pipe_ada = Pipeline([\n",
    "    ('tvec', TfidfVectorizer()),\n",
    "    ('ada', AdaBoostClassifier(base_estimator=DecisionTreeClassifier()))\n",
    "])"
   ]
  },
  {
   "cell_type": "code",
   "execution_count": 283,
   "id": "2875be3e-c130-4498-b305-2881eace7411",
   "metadata": {},
   "outputs": [],
   "source": [
    "param_ada_grid = {\n",
    "    'tvec__max_features': [1000, 2500, 5000], # estimate the amount of words to be included\n",
    "    \"tvec__stop_words\":   ['english'],\n",
    "    'tvec__ngram_range': [(1,1), (1,2)],\n",
    "    'ada__n_estimators': [50,100], \n",
    "    'ada__base_estimator__max_depth': [1,2],\n",
    "    'ada__learning_rate': [.9, 1.]\n",
    "}"
   ]
  },
  {
   "cell_type": "code",
   "execution_count": 284,
   "id": "b4bbf99d-a375-44d2-a5ba-97b6bdd17eab",
   "metadata": {},
   "outputs": [],
   "source": [
    "gs_ada = GridSearchCV(pipe_ada, \n",
    "                  param_grid=param_ada_grid, \n",
    "                  cv=5)"
   ]
  },
  {
   "cell_type": "code",
   "execution_count": 285,
   "id": "247d4595-c617-4a6b-8145-7bb7b67a49ef",
   "metadata": {},
   "outputs": [
    {
     "data": {
      "text/html": [
       "<style>#sk-container-id-15 {color: black;background-color: white;}#sk-container-id-15 pre{padding: 0;}#sk-container-id-15 div.sk-toggleable {background-color: white;}#sk-container-id-15 label.sk-toggleable__label {cursor: pointer;display: block;width: 100%;margin-bottom: 0;padding: 0.3em;box-sizing: border-box;text-align: center;}#sk-container-id-15 label.sk-toggleable__label-arrow:before {content: \"▸\";float: left;margin-right: 0.25em;color: #696969;}#sk-container-id-15 label.sk-toggleable__label-arrow:hover:before {color: black;}#sk-container-id-15 div.sk-estimator:hover label.sk-toggleable__label-arrow:before {color: black;}#sk-container-id-15 div.sk-toggleable__content {max-height: 0;max-width: 0;overflow: hidden;text-align: left;background-color: #f0f8ff;}#sk-container-id-15 div.sk-toggleable__content pre {margin: 0.2em;color: black;border-radius: 0.25em;background-color: #f0f8ff;}#sk-container-id-15 input.sk-toggleable__control:checked~div.sk-toggleable__content {max-height: 200px;max-width: 100%;overflow: auto;}#sk-container-id-15 input.sk-toggleable__control:checked~label.sk-toggleable__label-arrow:before {content: \"▾\";}#sk-container-id-15 div.sk-estimator input.sk-toggleable__control:checked~label.sk-toggleable__label {background-color: #d4ebff;}#sk-container-id-15 div.sk-label input.sk-toggleable__control:checked~label.sk-toggleable__label {background-color: #d4ebff;}#sk-container-id-15 input.sk-hidden--visually {border: 0;clip: rect(1px 1px 1px 1px);clip: rect(1px, 1px, 1px, 1px);height: 1px;margin: -1px;overflow: hidden;padding: 0;position: absolute;width: 1px;}#sk-container-id-15 div.sk-estimator {font-family: monospace;background-color: #f0f8ff;border: 1px dotted black;border-radius: 0.25em;box-sizing: border-box;margin-bottom: 0.5em;}#sk-container-id-15 div.sk-estimator:hover {background-color: #d4ebff;}#sk-container-id-15 div.sk-parallel-item::after {content: \"\";width: 100%;border-bottom: 1px solid gray;flex-grow: 1;}#sk-container-id-15 div.sk-label:hover label.sk-toggleable__label {background-color: #d4ebff;}#sk-container-id-15 div.sk-serial::before {content: \"\";position: absolute;border-left: 1px solid gray;box-sizing: border-box;top: 0;bottom: 0;left: 50%;z-index: 0;}#sk-container-id-15 div.sk-serial {display: flex;flex-direction: column;align-items: center;background-color: white;padding-right: 0.2em;padding-left: 0.2em;position: relative;}#sk-container-id-15 div.sk-item {position: relative;z-index: 1;}#sk-container-id-15 div.sk-parallel {display: flex;align-items: stretch;justify-content: center;background-color: white;position: relative;}#sk-container-id-15 div.sk-item::before, #sk-container-id-15 div.sk-parallel-item::before {content: \"\";position: absolute;border-left: 1px solid gray;box-sizing: border-box;top: 0;bottom: 0;left: 50%;z-index: -1;}#sk-container-id-15 div.sk-parallel-item {display: flex;flex-direction: column;z-index: 1;position: relative;background-color: white;}#sk-container-id-15 div.sk-parallel-item:first-child::after {align-self: flex-end;width: 50%;}#sk-container-id-15 div.sk-parallel-item:last-child::after {align-self: flex-start;width: 50%;}#sk-container-id-15 div.sk-parallel-item:only-child::after {width: 0;}#sk-container-id-15 div.sk-dashed-wrapped {border: 1px dashed gray;margin: 0 0.4em 0.5em 0.4em;box-sizing: border-box;padding-bottom: 0.4em;background-color: white;}#sk-container-id-15 div.sk-label label {font-family: monospace;font-weight: bold;display: inline-block;line-height: 1.2em;}#sk-container-id-15 div.sk-label-container {text-align: center;}#sk-container-id-15 div.sk-container {/* jupyter's `normalize.less` sets `[hidden] { display: none; }` but bootstrap.min.css set `[hidden] { display: none !important; }` so we also need the `!important` here to be able to override the default hidden behavior on the sphinx rendered scikit-learn.org. See: https://github.com/scikit-learn/scikit-learn/issues/21755 */display: inline-block !important;position: relative;}#sk-container-id-15 div.sk-text-repr-fallback {display: none;}</style><div id=\"sk-container-id-15\" class=\"sk-top-container\"><div class=\"sk-text-repr-fallback\"><pre>GridSearchCV(cv=5,\n",
       "             estimator=Pipeline(steps=[(&#x27;tvec&#x27;, TfidfVectorizer()),\n",
       "                                       (&#x27;ada&#x27;,\n",
       "                                        AdaBoostClassifier(base_estimator=DecisionTreeClassifier()))]),\n",
       "             param_grid={&#x27;ada__base_estimator__max_depth&#x27;: [1, 2],\n",
       "                         &#x27;ada__learning_rate&#x27;: [0.9, 1.0],\n",
       "                         &#x27;ada__n_estimators&#x27;: [50, 100],\n",
       "                         &#x27;tvec__max_features&#x27;: [1000, 2500, 5000],\n",
       "                         &#x27;tvec__ngram_range&#x27;: [(1, 1), (1, 2)],\n",
       "                         &#x27;tvec__stop_words&#x27;: [&#x27;english&#x27;]})</pre><b>In a Jupyter environment, please rerun this cell to show the HTML representation or trust the notebook. <br />On GitHub, the HTML representation is unable to render, please try loading this page with nbviewer.org.</b></div><div class=\"sk-container\" hidden><div class=\"sk-item sk-dashed-wrapped\"><div class=\"sk-label-container\"><div class=\"sk-label sk-toggleable\"><input class=\"sk-toggleable__control sk-hidden--visually\" id=\"sk-estimator-id-59\" type=\"checkbox\" ><label for=\"sk-estimator-id-59\" class=\"sk-toggleable__label sk-toggleable__label-arrow\">GridSearchCV</label><div class=\"sk-toggleable__content\"><pre>GridSearchCV(cv=5,\n",
       "             estimator=Pipeline(steps=[(&#x27;tvec&#x27;, TfidfVectorizer()),\n",
       "                                       (&#x27;ada&#x27;,\n",
       "                                        AdaBoostClassifier(base_estimator=DecisionTreeClassifier()))]),\n",
       "             param_grid={&#x27;ada__base_estimator__max_depth&#x27;: [1, 2],\n",
       "                         &#x27;ada__learning_rate&#x27;: [0.9, 1.0],\n",
       "                         &#x27;ada__n_estimators&#x27;: [50, 100],\n",
       "                         &#x27;tvec__max_features&#x27;: [1000, 2500, 5000],\n",
       "                         &#x27;tvec__ngram_range&#x27;: [(1, 1), (1, 2)],\n",
       "                         &#x27;tvec__stop_words&#x27;: [&#x27;english&#x27;]})</pre></div></div></div><div class=\"sk-parallel\"><div class=\"sk-parallel-item\"><div class=\"sk-item\"><div class=\"sk-label-container\"><div class=\"sk-label sk-toggleable\"><input class=\"sk-toggleable__control sk-hidden--visually\" id=\"sk-estimator-id-60\" type=\"checkbox\" ><label for=\"sk-estimator-id-60\" class=\"sk-toggleable__label sk-toggleable__label-arrow\">estimator: Pipeline</label><div class=\"sk-toggleable__content\"><pre>Pipeline(steps=[(&#x27;tvec&#x27;, TfidfVectorizer()),\n",
       "                (&#x27;ada&#x27;,\n",
       "                 AdaBoostClassifier(base_estimator=DecisionTreeClassifier()))])</pre></div></div></div><div class=\"sk-serial\"><div class=\"sk-item\"><div class=\"sk-serial\"><div class=\"sk-item\"><div class=\"sk-estimator sk-toggleable\"><input class=\"sk-toggleable__control sk-hidden--visually\" id=\"sk-estimator-id-61\" type=\"checkbox\" ><label for=\"sk-estimator-id-61\" class=\"sk-toggleable__label sk-toggleable__label-arrow\">TfidfVectorizer</label><div class=\"sk-toggleable__content\"><pre>TfidfVectorizer()</pre></div></div></div><div class=\"sk-item sk-dashed-wrapped\"><div class=\"sk-label-container\"><div class=\"sk-label sk-toggleable\"><input class=\"sk-toggleable__control sk-hidden--visually\" id=\"sk-estimator-id-62\" type=\"checkbox\" ><label for=\"sk-estimator-id-62\" class=\"sk-toggleable__label sk-toggleable__label-arrow\">ada: AdaBoostClassifier</label><div class=\"sk-toggleable__content\"><pre>AdaBoostClassifier(base_estimator=DecisionTreeClassifier())</pre></div></div></div><div class=\"sk-parallel\"><div class=\"sk-parallel-item\"><div class=\"sk-item\"><div class=\"sk-label-container\"><div class=\"sk-label sk-toggleable\"><input class=\"sk-toggleable__control sk-hidden--visually\" id=\"sk-estimator-id-63\" type=\"checkbox\" ><label for=\"sk-estimator-id-63\" class=\"sk-toggleable__label sk-toggleable__label-arrow\">base_estimator: DecisionTreeClassifier</label><div class=\"sk-toggleable__content\"><pre>DecisionTreeClassifier()</pre></div></div></div><div class=\"sk-serial\"><div class=\"sk-item\"><div class=\"sk-estimator sk-toggleable\"><input class=\"sk-toggleable__control sk-hidden--visually\" id=\"sk-estimator-id-64\" type=\"checkbox\" ><label for=\"sk-estimator-id-64\" class=\"sk-toggleable__label sk-toggleable__label-arrow\">DecisionTreeClassifier</label><div class=\"sk-toggleable__content\"><pre>DecisionTreeClassifier()</pre></div></div></div></div></div></div></div></div></div></div></div></div></div></div></div></div></div>"
      ],
      "text/plain": [
       "GridSearchCV(cv=5,\n",
       "             estimator=Pipeline(steps=[('tvec', TfidfVectorizer()),\n",
       "                                       ('ada',\n",
       "                                        AdaBoostClassifier(base_estimator=DecisionTreeClassifier()))]),\n",
       "             param_grid={'ada__base_estimator__max_depth': [1, 2],\n",
       "                         'ada__learning_rate': [0.9, 1.0],\n",
       "                         'ada__n_estimators': [50, 100],\n",
       "                         'tvec__max_features': [1000, 2500, 5000],\n",
       "                         'tvec__ngram_range': [(1, 1), (1, 2)],\n",
       "                         'tvec__stop_words': ['english']})"
      ]
     },
     "execution_count": 285,
     "metadata": {},
     "output_type": "execute_result"
    }
   ],
   "source": [
    "gs_ada.fit(X_train,y_train)"
   ]
  },
  {
   "cell_type": "code",
   "execution_count": 286,
   "id": "1df20243-61bd-4c2b-b658-7a43834b89e5",
   "metadata": {},
   "outputs": [],
   "source": [
    "gs_ada = gs_ada.best_estimator_"
   ]
  },
  {
   "cell_type": "code",
   "execution_count": 287,
   "id": "a4248217-b1d3-4549-88a3-ced36ba4f973",
   "metadata": {},
   "outputs": [
    {
     "data": {
      "text/plain": [
       "0.9541371158392435"
      ]
     },
     "execution_count": 287,
     "metadata": {},
     "output_type": "execute_result"
    }
   ],
   "source": [
    "gs_ada.score(X_train, y_train)"
   ]
  },
  {
   "cell_type": "code",
   "execution_count": 288,
   "id": "049abb7c-d636-4558-8a0d-2200bcb1c77b",
   "metadata": {},
   "outputs": [
    {
     "data": {
      "text/plain": [
       "0.8180815876515987"
      ]
     },
     "execution_count": 288,
     "metadata": {},
     "output_type": "execute_result"
    }
   ],
   "source": [
    "gs_ada.score(X_test, y_test) "
   ]
  },
  {
   "cell_type": "code",
   "execution_count": 289,
   "id": "ddfde017-97d5-494d-b154-8118a878810c",
   "metadata": {},
   "outputs": [],
   "source": [
    "# Get predictions\n",
    "preds = gs_ada.predict(X_test)\n",
    "\n",
    "# Save confusion matrix values\n",
    "tn, fp, fn, tp = confusion_matrix(y_test, preds).ravel()"
   ]
  },
  {
   "cell_type": "code",
   "execution_count": 290,
   "id": "242e7c18-1f33-4e67-80ef-ab82ae62a4ec",
   "metadata": {},
   "outputs": [
    {
     "name": "stderr",
     "output_type": "stream",
     "text": [
      "/usr/local/Caskroom/miniconda/base/envs/dsi-sg/lib/python3.9/site-packages/sklearn/utils/deprecation.py:87: FutureWarning: Function plot_confusion_matrix is deprecated; Function `plot_confusion_matrix` is deprecated in 1.0 and will be removed in 1.2. Use one of the class methods: ConfusionMatrixDisplay.from_predictions or ConfusionMatrixDisplay.from_estimator.\n",
      "  warnings.warn(msg, category=FutureWarning)\n"
     ]
    },
    {
     "data": {
      "image/png": "[encoded data removed]",
      "text/plain": [
       "<Figure size 640x480 with 2 Axes>"
      ]
     },
     "metadata": {},
     "output_type": "display_data"
    }
   ],
   "source": [
    "# View confusion matrix\n",
    "plot_confusion_matrix(gs_ada, X_test, y_test, cmap='Blues', values_format='d');"
   ]
  },
  {
   "cell_type": "code",
   "execution_count": 291,
   "id": "e51a133c-7a55-4a0c-a20b-181e85bcfa90",
   "metadata": {},
   "outputs": [
    {
     "name": "stdout",
     "output_type": "stream",
     "text": [
      "Specificity for AdaBoost: 0.9024390243902439\n",
      "Sensitivity for AdaBoost: 0.7346491228070176\n"
     ]
    }
   ],
   "source": [
    "spec = tn / (tn + fp)\n",
    "print('Specificity for AdaBoost:', spec)\n",
    "\n",
    "sens = tp / (fn + tp)\n",
    "print('Sensitivity for AdaBoost:', sens)"
   ]
  },
  {
   "cell_type": "code",
   "execution_count": 292,
   "id": "d7cf5be7-eb3c-48c1-8fd8-f2e6d456a997",
   "metadata": {},
   "outputs": [
    {
     "data": {
      "text/plain": [
       "0.8180815876515987"
      ]
     },
     "execution_count": 292,
     "metadata": {},
     "output_type": "execute_result"
    }
   ],
   "source": [
    "accuracy_score(y_test, preds)"
   ]
  },
  {
   "cell_type": "code",
   "execution_count": 293,
   "id": "155d2741-c5a7-4099-87db-3c4f2cf7dc07",
   "metadata": {},
   "outputs": [
    {
     "name": "stdout",
     "output_type": "stream",
     "text": [
      "Precision for AdaBoost :  0.8839050131926122\n",
      "Recall for AdaBoost :  0.7346491228070176\n",
      "F1 score for AdaBoost :  0.8023952095808383\n"
     ]
    }
   ],
   "source": [
    "print('Precision for AdaBoost : ', precision_score(y_test, preds))\n",
    "print('Recall for AdaBoost : ', recall_score(y_test, preds))\n",
    "print('F1 score for AdaBoost : ', f1_score(y_test, preds))"
   ]
  },
  {
   "cell_type": "code",
   "execution_count": 294,
   "id": "fe41edd5-70e2-4536-9980-9904a825a9ff",
   "metadata": {},
   "outputs": [
    {
     "name": "stdout",
     "output_type": "stream",
     "text": [
      "ROC-AUC score for AdaBoost is:  0.9223727972925663\n"
     ]
    }
   ],
   "source": [
    "gs_ada_roc_auc = roc_auc_score(y_test, gs_ada.predict_proba(X_test)[:,1])\n",
    "print('ROC-AUC score for AdaBoost is: ', gs_ada_roc_auc)"
   ]
  },
  {
   "cell_type": "markdown",
   "id": "66688965-6a3d-4dbd-a351-f066ad9d7313",
   "metadata": {},
   "source": [
    "**Insights**: \n",
    "1. Advantages:\n",
    "    * AdaBoost can be a good out-of-the-box classifier for binary values. \n",
    "    * Its output of the other learning algorithms is combined into a weighted sum that represents the final output of the hoosted classifier\n",
    "    * Also, it is less likely to overfit, as the input parameters are not jointly optimized\n",
    "2. Disadvantages:\n",
    "    * It is quite sensitive to noisy data."
   ]
  },
  {
   "cell_type": "code",
   "execution_count": null,
   "id": "4fdc933a-0a8d-474a-ad7f-79163641f880",
   "metadata": {},
   "outputs": [],
   "source": []
  },
  {
   "cell_type": "markdown",
   "id": "e90afe5f-d861-40d6-8c5d-78629c866605",
   "metadata": {},
   "source": [
    "# 4.0 Summary, Recommendation and Future Improvements"
   ]
  },
  {
   "cell_type": "markdown",
   "id": "b474eb41-e10d-4466-bf12-c53025778e9a",
   "metadata": {},
   "source": [
    "## 4.1 Summary\n",
    "There are a lot of metrics that we can pick to evaluate the models. I will focus on these for: precision, recall, f1 score, and ROC-AUC score. \n",
    "- Precision score can tell the proportion of true coffee posts among the predicted coffee posts. This helps to minimize false positives (classifying tea as coffee)\n",
    "- Recall score can tell the proportion of true coffee among actual coffee posts. This can minimize false negative (classifying coffee as tea)\n",
    "- F1 Score is the harmonic mean between precision and recall. For this case, I think we should go for the higher F1 score to represent the effectiveness in identifying the posts correctly\n",
    "- ROC-AUC Score represents the trade-off between TPR/FPR, and its ability to distinguish both\n",
    "\n",
    "In consideration of the business problem, I would recommend a model that can classify coffee better than tea. This is to avoid missed opportunities of learning insights about coffee consumers as it is more complex than tea consumers. The model also has to be flexible enough to be fined tune for future."
   ]
  },
  {
   "cell_type": "markdown",
   "id": "5a657305-3bcf-4f2c-b849-9445abad4eb8",
   "metadata": {},
   "source": [
    "| Models | Training Score | Test Score | Accuracy | Precision | Recall | F1 Score | ROC AUC Score |\n",
    "| :-: | :-: | :-: | :-: | :-: | :-: | :-: | :-: |\n",
    "| Naive Bayes | 0.96 | 0.89 | 0.88 | 0.87 | 0.92 | 0.89 | 0.96 |\n",
    "| LogReg | 0.96 | 0.88 | 0.88 | 0.85 | 0.93 | 0.89 | 0.96 |\n",
    "| Decision Tree | 0.98 | 0.87 | 0.87 | 0.89 | 0.84 | 0.86 | 0.95 |\n",
    "| KNN | 0.97 | 0.63 | 0.62 | 0.67 | 0.52 | 0.59 | 0.71 |\n",
    "| Random Forest | 0.88 | 0.85 | 0.85 | 0.92 | 0.76 | 0.84 | 0.94 |\n",
    "| SVM | 0.98 | 0.89 | 0.89 | 0.88 | 0.90 | 0.89 | 0.94 |\n",
    "| AdaBoost | 0.95 | 0.82 | 0.82 | 0.9 | 0.73 | 0.81 | 0.92 |"
   ]
  },
  {
   "cell_type": "markdown",
   "id": "a4e2a2e5-99d7-4a6c-89b9-681cd66c4d25",
   "metadata": {},
   "source": [
    "## 4.2 Recommendations"
   ]
  },
  {
   "cell_type": "markdown",
   "id": "a96498c2-2880-4481-9218-679000df4a1e",
   "metadata": {},
   "source": [
    "In order to have a model that can take in a wider range of words, and balance the True Positive Rates vs True Negative Rate, I would suggest the following models:\n",
    "1. Logistic Regression: this is a very efficient model in a binary classification model, but it may not work well on areas beyond two categories. Also, this is a simpler model\n",
    "2. SVM: this can classify unseen data well and works very well for NLP. However, it is very computationally expensive.\n",
    "3. Decision tree: this model can capture a more complex, non-linear relationship. It is also resilient against outliers. "
   ]
  },
  {
   "cell_type": "markdown",
   "id": "57626513-bee0-4294-89ca-dd3299714dcc",
   "metadata": {},
   "source": [
    "## 4.3 Future Enhancements"
   ]
  },
  {
   "cell_type": "markdown",
   "id": "0ef15035-0987-47ba-acd7-6f6f11073b70",
   "metadata": {},
   "source": [
    "1. use Word2Vec to distinguish words and use semantics: \n",
    "    * Word2Vec is a pre-trained model that can help find out the related words that can help \n",
    "2. Include explanability of the model for LogReg: \n",
    "    * This allows me to understand the important words that increase the predictability of a post about coffee, or a post about tea. \n",
    "    * This can help in keyword discovery, which can be fed into marketing posts\n",
    "3. Include sentiment analysis: \n",
    "    * Sentiment analysis can help in understanding what the users feel. \n",
    "    * This can help to shape the right marketing messages as well. For example - to market to coffee users, I can use words that signals the positive feelings of consuming coffee.\n",
    "4. Include a wider range of corpus: \n",
    "    * There are areas among Tea that are not captured - for example, Boba Tea. \n",
    "    * Boba is a great invention of Tea and offers a variety of marketing this product beyond its raw material."
   ]
  },
  {
   "cell_type": "code",
   "execution_count": null,
   "id": "5a0c80ac-b60d-43ca-bc7e-3959b057b669",
   "metadata": {},
   "outputs": [],
   "source": []
  }
 ],
 "metadata": {
  "kernelspec": {
   "display_name": "dsi-sg",
   "language": "python",
   "name": "dsi-sg"
  },
  "language_info": {
   "codemirror_mode": {
    "name": "ipython",
    "version": 3
   },
   "file_extension": ".py",
   "mimetype": "text/x-python",
   "name": "python",
   "nbconvert_exporter": "python",
   "pygments_lexer": "ipython3",
   "version": "3.9.13"
  }
 },
 "nbformat": 4,
 "nbformat_minor": 5
}
